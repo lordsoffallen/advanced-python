{
 "cells": [
  {
   "cell_type": "markdown",
   "metadata": {},
   "source": [
    "# Advanced Python Features"
   ]
  },
  {
   "cell_type": "markdown",
   "metadata": {
    "heading_collapsed": true
   },
   "source": [
    "## Language Features"
   ]
  },
  {
   "cell_type": "markdown",
   "metadata": {
    "heading_collapsed": true,
    "hidden": true
   },
   "source": [
    "###  Python Truth Values"
   ]
  },
  {
   "cell_type": "markdown",
   "metadata": {
    "hidden": true
   },
   "source": [
    "In Python, any object can be tested for Boolean truth value. In general, any object is considered to be equivalent to Boolean true, unless it's class defines a Bool method that returns false, or has a len method that returns a zero length. \n",
    "There are two constants which are defined to evaluate to false:\n",
    "\n",
    "* the false Boolean constant itself\n",
    "* and the none constant which you may have seen represented in other languages as null.\n",
    "\n",
    "Any of the built-in numeric types that evaluate to zero are also considered to be false.  \n",
    "\n",
    "The empty string and empty collection objects are all considered to be false. In addition, if you call the built-in set function with no parameters, or you create a range of zero, those are also considered to be Boolean false. For custom objects, they are by default considered to be true, unless they override the Bool function and return a false value, or they override the len function and return a value of zero. \n",
    "\n",
    "There are also three basic Boolean operations, and, or, and not. The first two of these operations are short circuit operators. In the case of and, if the first value evaluates to false, then the second operand isn't evaluated, since it won't matter what it is because anything anded with false comes out to be false. Similarly, the or operator only evaluates the second operand if the first value is false, because anything ored with true will come out to be true. "
   ]
  },
  {
   "cell_type": "markdown",
   "metadata": {
    "heading_collapsed": true,
    "hidden": true
   },
   "source": [
    "### String vs Bytes"
   ]
  },
  {
   "cell_type": "markdown",
   "metadata": {
    "hidden": true
   },
   "source": [
    "In Python 3, there are very important differences between the notions of strings and bytes. A string in Python 3 is a sequence of Unicode characters, while bytes are a sequence of raw eight-bit values."
   ]
  },
  {
   "cell_type": "code",
   "execution_count": 1,
   "metadata": {
    "ExecuteTime": {
     "end_time": "2019-02-15T19:57:14.344888Z",
     "start_time": "2019-02-15T19:57:14.329880Z"
    },
    "hidden": true
   },
   "outputs": [
    {
     "data": {
      "text/plain": [
       "b'ABCD'"
      ]
     },
     "execution_count": 1,
     "metadata": {},
     "output_type": "execute_result"
    }
   ],
   "source": [
    "# strings and bytes are not directly interchangeable\n",
    "# strings contain unicode, bytes are raw 8-bit values\n",
    "b = bytes([0x41, 0x42, 0x43, 0x44])\n",
    "b"
   ]
  },
  {
   "cell_type": "code",
   "execution_count": 2,
   "metadata": {
    "ExecuteTime": {
     "end_time": "2019-02-15T19:57:29.173162Z",
     "start_time": "2019-02-15T19:57:29.168161Z"
    },
    "hidden": true
   },
   "outputs": [
    {
     "data": {
      "text/plain": [
       "'This is a string'"
      ]
     },
     "execution_count": 2,
     "metadata": {},
     "output_type": "execute_result"
    }
   ],
   "source": [
    "s = \"This is a string\"\n",
    "s"
   ]
  },
  {
   "cell_type": "markdown",
   "metadata": {
    "hidden": true
   },
   "source": [
    "And you can see in the output that the first is a sequence of bytes,  as noted by the little b character right there. And the second print statement prints out this is a string. Try combining them. This will cause an error"
   ]
  },
  {
   "cell_type": "code",
   "execution_count": 3,
   "metadata": {
    "ExecuteTime": {
     "end_time": "2019-02-15T19:58:20.636186Z",
     "start_time": "2019-02-15T19:58:20.478082Z"
    },
    "hidden": true
   },
   "outputs": [
    {
     "ename": "TypeError",
     "evalue": "can only concatenate str (not \"bytes\") to str",
     "output_type": "error",
     "traceback": [
      "\u001b[1;31m---------------------------------------------------------------------------\u001b[0m",
      "\u001b[1;31mTypeError\u001b[0m                                 Traceback (most recent call last)",
      "\u001b[1;32m<ipython-input-3-9c3249b2294d>\u001b[0m in \u001b[0;36m<module>\u001b[1;34m()\u001b[0m\n\u001b[1;32m----> 1\u001b[1;33m \u001b[0ms\u001b[0m\u001b[1;33m+\u001b[0m\u001b[0mb\u001b[0m\u001b[1;33m\u001b[0m\u001b[0m\n\u001b[0m",
      "\u001b[1;31mTypeError\u001b[0m: can only concatenate str (not \"bytes\") to str"
     ]
    }
   ],
   "source": [
    "s+b"
   ]
  },
  {
   "cell_type": "code",
   "execution_count": 4,
   "metadata": {
    "ExecuteTime": {
     "end_time": "2019-02-15T19:58:45.169791Z",
     "start_time": "2019-02-15T19:58:45.163788Z"
    },
    "hidden": true
   },
   "outputs": [
    {
     "data": {
      "text/plain": [
       "'This is a stringABCD'"
      ]
     },
     "execution_count": 4,
     "metadata": {},
     "output_type": "execute_result"
    }
   ],
   "source": [
    "# Bytes and strings need to be properly encoded and decoded\n",
    "# before you can work on them together\n",
    "s2 = b.decode('utf-8')\n",
    "s+s2"
   ]
  },
  {
   "cell_type": "code",
   "execution_count": 5,
   "metadata": {
    "ExecuteTime": {
     "end_time": "2019-02-15T19:58:57.936550Z",
     "start_time": "2019-02-15T19:58:57.930546Z"
    },
    "hidden": true
   },
   "outputs": [
    {
     "data": {
      "text/plain": [
       "b'ABCDThis is a string'"
      ]
     },
     "execution_count": 5,
     "metadata": {},
     "output_type": "execute_result"
    }
   ],
   "source": [
    "b2 = s.encode('utf-8')\n",
    "b+b2"
   ]
  },
  {
   "cell_type": "code",
   "execution_count": 6,
   "metadata": {
    "ExecuteTime": {
     "end_time": "2019-02-15T19:59:13.394891Z",
     "start_time": "2019-02-15T19:59:13.388889Z"
    },
    "hidden": true
   },
   "outputs": [
    {
     "data": {
      "text/plain": [
       "b'\\xff\\xfe\\x00\\x00T\\x00\\x00\\x00h\\x00\\x00\\x00i\\x00\\x00\\x00s\\x00\\x00\\x00 \\x00\\x00\\x00i\\x00\\x00\\x00s\\x00\\x00\\x00 \\x00\\x00\\x00a\\x00\\x00\\x00 \\x00\\x00\\x00s\\x00\\x00\\x00t\\x00\\x00\\x00r\\x00\\x00\\x00i\\x00\\x00\\x00n\\x00\\x00\\x00g\\x00\\x00\\x00'"
      ]
     },
     "execution_count": 6,
     "metadata": {},
     "output_type": "execute_result"
    }
   ],
   "source": [
    "# encode the string as UTF-32\n",
    "b3 = s.encode('utf-32')\n",
    "b3"
   ]
  },
  {
   "cell_type": "markdown",
   "metadata": {
    "heading_collapsed": true,
    "hidden": true
   },
   "source": [
    "### Template Strings"
   ]
  },
  {
   "cell_type": "markdown",
   "metadata": {
    "hidden": true
   },
   "source": [
    "Why would you use different method of string formatting instead of the regular string format function?  \n",
    "First, if all you need to do is simple variable substitution:\n",
    "* the template string method is much easier to use   \n",
    "* the code is more readable.  \n",
    "\n",
    "You can control the output formatting with all kinds of specifiers:\n",
    "* for spacing\n",
    "* number formatting\n",
    "* justification\n"
   ]
  },
  {
   "cell_type": "code",
   "execution_count": 7,
   "metadata": {
    "ExecuteTime": {
     "end_time": "2019-02-15T20:05:41.647203Z",
     "start_time": "2019-02-15T20:05:41.639197Z"
    },
    "hidden": true
   },
   "outputs": [
    {
     "data": {
      "text/plain": [
       "\"You're looking at Python 3 Code by Jupyter Notebook\""
      ]
     },
     "execution_count": 7,
     "metadata": {},
     "output_type": "execute_result"
    }
   ],
   "source": [
    "from string import Template\n",
    "\n",
    "# Usual string formatting with format()\n",
    "str1 = \"You're looking at {0} by {1}\".format(\"Python 3 Code\", \"Jupyter Notebook\")\n",
    "str1"
   ]
  },
  {
   "cell_type": "code",
   "execution_count": 8,
   "metadata": {
    "ExecuteTime": {
     "end_time": "2019-02-15T20:06:18.643448Z",
     "start_time": "2019-02-15T20:06:18.637446Z"
    },
    "hidden": true
   },
   "outputs": [
    {
     "data": {
      "text/plain": [
       "\"You're looking at Python 3 Code by Jupyter Notebook\""
      ]
     },
     "execution_count": 8,
     "metadata": {},
     "output_type": "execute_result"
    }
   ],
   "source": [
    "# create a template with placeholders\n",
    "templ = Template(\"You're looking at ${title} by ${software}\")\n",
    "\n",
    "# use the substitute method with keyword arguments\n",
    "str2 = templ.substitute(title=\"Python 3 Code\", software=\"Jupyter Notebook\")\n",
    "str2"
   ]
  },
  {
   "cell_type": "code",
   "execution_count": 9,
   "metadata": {
    "ExecuteTime": {
     "end_time": "2019-02-15T20:06:40.514347Z",
     "start_time": "2019-02-15T20:06:40.506342Z"
    },
    "hidden": true
   },
   "outputs": [
    {
     "data": {
      "text/plain": [
       "\"You're looking at Python 3 Code by Jupyter Notebook\""
      ]
     },
     "execution_count": 9,
     "metadata": {},
     "output_type": "execute_result"
    }
   ],
   "source": [
    "# use the substitute method with a dictionary\n",
    "data = {\"software\": \"Jupyter Notebook\", \n",
    "        \"title\": \"Python 3 Code\"}\n",
    "    \n",
    "str3 = templ.substitute(data) \n",
    "str3"
   ]
  },
  {
   "cell_type": "markdown",
   "metadata": {
    "heading_collapsed": true
   },
   "source": [
    "## Built-in Functions"
   ]
  },
  {
   "cell_type": "markdown",
   "metadata": {
    "heading_collapsed": true,
    "hidden": true
   },
   "source": [
    "### Utilities"
   ]
  },
  {
   "cell_type": "code",
   "execution_count": 10,
   "metadata": {
    "ExecuteTime": {
     "end_time": "2019-02-15T20:08:31.730751Z",
     "start_time": "2019-02-15T20:08:31.724747Z"
    },
    "hidden": true
   },
   "outputs": [
    {
     "data": {
      "text/plain": [
       "True"
      ]
     },
     "execution_count": 10,
     "metadata": {},
     "output_type": "execute_result"
    }
   ],
   "source": [
    "# demonstrate built-in utility functions\n",
    "# use any() and all() to test sequences for boolean values\n",
    "list1 = [1, 2, 3, 0, 5, 6]\n",
    "any(list1)    "
   ]
  },
  {
   "cell_type": "code",
   "execution_count": 11,
   "metadata": {
    "ExecuteTime": {
     "end_time": "2019-02-15T20:08:41.579433Z",
     "start_time": "2019-02-15T20:08:41.574432Z"
    },
    "hidden": true
   },
   "outputs": [
    {
     "data": {
      "text/plain": [
       "False"
      ]
     },
     "execution_count": 11,
     "metadata": {},
     "output_type": "execute_result"
    }
   ],
   "source": [
    "all(list1)"
   ]
  },
  {
   "cell_type": "code",
   "execution_count": 12,
   "metadata": {
    "ExecuteTime": {
     "end_time": "2019-02-15T20:08:55.695893Z",
     "start_time": "2019-02-15T20:08:55.690889Z"
    },
    "hidden": true
   },
   "outputs": [
    {
     "data": {
      "text/plain": [
       "0"
      ]
     },
     "execution_count": 12,
     "metadata": {},
     "output_type": "execute_result"
    }
   ],
   "source": [
    "min(list1)"
   ]
  },
  {
   "cell_type": "code",
   "execution_count": 13,
   "metadata": {
    "ExecuteTime": {
     "end_time": "2019-02-15T20:09:01.814030Z",
     "start_time": "2019-02-15T20:09:01.809026Z"
    },
    "hidden": true
   },
   "outputs": [
    {
     "data": {
      "text/plain": [
       "6"
      ]
     },
     "execution_count": 13,
     "metadata": {},
     "output_type": "execute_result"
    }
   ],
   "source": [
    "max(list1)"
   ]
  },
  {
   "cell_type": "code",
   "execution_count": 14,
   "metadata": {
    "ExecuteTime": {
     "end_time": "2019-02-15T20:09:06.150970Z",
     "start_time": "2019-02-15T20:09:06.144967Z"
    },
    "hidden": true
   },
   "outputs": [
    {
     "data": {
      "text/plain": [
       "17"
      ]
     },
     "execution_count": 14,
     "metadata": {},
     "output_type": "execute_result"
    }
   ],
   "source": [
    "sum(list1)"
   ]
  },
  {
   "cell_type": "markdown",
   "metadata": {
    "heading_collapsed": true,
    "hidden": true
   },
   "source": [
    "### Iterators"
   ]
  },
  {
   "cell_type": "markdown",
   "metadata": {
    "hidden": true
   },
   "source": [
    "The term we use to describe looping over is called iteration. Iter creates an iterable object out of a sequence that you give it."
   ]
  },
  {
   "cell_type": "code",
   "execution_count": 15,
   "metadata": {
    "ExecuteTime": {
     "end_time": "2019-02-15T20:10:59.762062Z",
     "start_time": "2019-02-15T20:10:59.758059Z"
    },
    "hidden": true
   },
   "outputs": [],
   "source": [
    "# use iterator functions like enumerate, zip, iter, next\n",
    "# define a list of days in English and French\n",
    "days = [\"Sun\", \"Mon\", \"Tue\", \"Wed\", \"Thu\", \"Fri\", \"Sat\"]\n",
    "daysFr = [\"Dim\", \"Lun\", \"Mar\", \"Mer\", \"Jeu\", \"Ven\", \"Sam\"]"
   ]
  },
  {
   "cell_type": "code",
   "execution_count": 16,
   "metadata": {
    "ExecuteTime": {
     "end_time": "2019-02-15T20:11:11.902524Z",
     "start_time": "2019-02-15T20:11:11.899522Z"
    },
    "hidden": true
   },
   "outputs": [],
   "source": [
    "# use iter to create an iterator over a collection\n",
    "i = iter(days)"
   ]
  },
  {
   "cell_type": "code",
   "execution_count": 17,
   "metadata": {
    "ExecuteTime": {
     "end_time": "2019-02-15T20:11:18.196787Z",
     "start_time": "2019-02-15T20:11:18.190784Z"
    },
    "hidden": true
   },
   "outputs": [
    {
     "data": {
      "text/plain": [
       "'Sun'"
      ]
     },
     "execution_count": 17,
     "metadata": {},
     "output_type": "execute_result"
    }
   ],
   "source": [
    "next(i)"
   ]
  },
  {
   "cell_type": "code",
   "execution_count": 18,
   "metadata": {
    "ExecuteTime": {
     "end_time": "2019-02-15T20:11:22.892983Z",
     "start_time": "2019-02-15T20:11:22.888981Z"
    },
    "hidden": true
   },
   "outputs": [
    {
     "data": {
      "text/plain": [
       "'Mon'"
      ]
     },
     "execution_count": 18,
     "metadata": {},
     "output_type": "execute_result"
    }
   ],
   "source": [
    "next(i)"
   ]
  },
  {
   "cell_type": "code",
   "execution_count": 24,
   "metadata": {
    "ExecuteTime": {
     "end_time": "2019-02-15T20:14:51.963247Z",
     "start_time": "2019-02-15T20:14:51.957243Z"
    },
    "hidden": true
   },
   "outputs": [
    {
     "name": "stdout",
     "output_type": "stream",
     "text": [
      "This is line 1\n",
      "\n",
      "This is line 2\n",
      "\n",
      "This is line 3\n",
      "\n",
      "This is line 4\n",
      "\n",
      "This is line 5\n",
      "\n",
      "This is line 6\n",
      "\n"
     ]
    }
   ],
   "source": [
    "# File part\n",
    "# iterate using a function and a sentinel\n",
    "with open(\"testfile.txt\", \"r\") as fp:\n",
    "    for line in iter(fp.readline, ''):\n",
    "        print(line)"
   ]
  },
  {
   "cell_type": "code",
   "execution_count": 25,
   "metadata": {
    "ExecuteTime": {
     "end_time": "2019-02-15T20:15:02.884692Z",
     "start_time": "2019-02-15T20:15:02.879689Z"
    },
    "hidden": true
   },
   "outputs": [
    {
     "name": "stdout",
     "output_type": "stream",
     "text": [
      "1 Sun\n",
      "2 Mon\n",
      "3 Tue\n",
      "4 Wed\n",
      "5 Thu\n",
      "6 Fri\n",
      "7 Sat\n"
     ]
    }
   ],
   "source": [
    "# Regular iteration\n",
    "# use regular iteration over the days\n",
    "for m in range(len(days)):\n",
    "    print(m+1, days[m])"
   ]
  },
  {
   "cell_type": "code",
   "execution_count": 26,
   "metadata": {
    "ExecuteTime": {
     "end_time": "2019-02-15T20:15:13.833137Z",
     "start_time": "2019-02-15T20:15:13.828136Z"
    },
    "hidden": true
   },
   "outputs": [
    {
     "name": "stdout",
     "output_type": "stream",
     "text": [
      "1 Sun\n",
      "2 Mon\n",
      "3 Tue\n",
      "4 Wed\n",
      "5 Thu\n",
      "6 Fri\n",
      "7 Sat\n"
     ]
    }
   ],
   "source": [
    "# Enumerate part\n",
    "# using enumerate reduces code and provides a counter\n",
    "for i, m in enumerate(days, start=1):\n",
    "    print(i, m)"
   ]
  },
  {
   "cell_type": "code",
   "execution_count": 27,
   "metadata": {
    "ExecuteTime": {
     "end_time": "2019-02-15T20:15:23.453660Z",
     "start_time": "2019-02-15T20:15:23.448657Z"
    },
    "hidden": true
   },
   "outputs": [
    {
     "name": "stdout",
     "output_type": "stream",
     "text": [
      "('Sun', 'Dim')\n",
      "('Mon', 'Lun')\n",
      "('Tue', 'Mar')\n",
      "('Wed', 'Mer')\n",
      "('Thu', 'Jeu')\n",
      "('Fri', 'Ven')\n",
      "('Sat', 'Sam')\n"
     ]
    }
   ],
   "source": [
    "# Zip part\n",
    "# use zip to combine sequences\n",
    "for m in zip(days, daysFr):\n",
    "    print(m)"
   ]
  },
  {
   "cell_type": "code",
   "execution_count": 28,
   "metadata": {
    "ExecuteTime": {
     "end_time": "2019-02-15T20:15:34.204014Z",
     "start_time": "2019-02-15T20:15:34.198012Z"
    },
    "hidden": true
   },
   "outputs": [
    {
     "name": "stdout",
     "output_type": "stream",
     "text": [
      "1 Sun = Dim in French\n",
      "2 Mon = Lun in French\n",
      "3 Tue = Mar in French\n",
      "4 Wed = Mer in French\n",
      "5 Thu = Jeu in French\n",
      "6 Fri = Ven in French\n",
      "7 Sat = Sam in French\n"
     ]
    }
   ],
   "source": [
    "# Zip and Enumerate part    \n",
    "for i, m in enumerate(zip(days, daysFr), start=1):\n",
    "    print(i, m[0], \"=\", m[1], \"in French\")"
   ]
  },
  {
   "cell_type": "markdown",
   "metadata": {
    "hidden": true
   },
   "source": [
    "**MORE ON ZIP FUNCTION**"
   ]
  },
  {
   "cell_type": "code",
   "execution_count": null,
   "metadata": {
    "hidden": true
   },
   "outputs": [],
   "source": []
  },
  {
   "cell_type": "code",
   "execution_count": null,
   "metadata": {
    "hidden": true
   },
   "outputs": [],
   "source": []
  },
  {
   "cell_type": "code",
   "execution_count": null,
   "metadata": {
    "hidden": true
   },
   "outputs": [],
   "source": []
  },
  {
   "cell_type": "markdown",
   "metadata": {
    "heading_collapsed": true,
    "hidden": true
   },
   "source": [
    "### Transformers"
   ]
  },
  {
   "cell_type": "markdown",
   "metadata": {
    "hidden": true
   },
   "source": [
    "The Python standard library provides built-in functions for transforming sequences of data.   \n",
    "  \n",
    "The filter functions does essentially what its name implies. It creates an iterator that filters out values from a given sequence. You pass it a function to perform a Boolean test and if that test returns false, then that item is removed from the resulting sequence.  \n",
    "  \n",
    "The map function creates an iterator that takes one or more sequences of values and produces a new sequence by applying a given function to each value in the original sequences. "
   ]
  },
  {
   "cell_type": "code",
   "execution_count": 30,
   "metadata": {
    "ExecuteTime": {
     "end_time": "2019-02-15T20:18:28.384667Z",
     "start_time": "2019-02-15T20:18:28.378662Z"
    },
    "hidden": true
   },
   "outputs": [],
   "source": [
    "def filterFunc(x):\n",
    "    if x % 2 == 0:\n",
    "        return False\n",
    "    return True\n",
    "\n",
    "\n",
    "def filterFunc2(x):\n",
    "    if x.isupper():\n",
    "        return False\n",
    "    return True\n",
    "\n",
    "\n",
    "def squareFunc(x):\n",
    "    return x**2\n",
    "\n",
    "\n",
    "def toGrade(x):\n",
    "    if (x >= 90):\n",
    "        return \"A\"\n",
    "    elif (x >= 80 and x < 90):\n",
    "        return \"B\"\n",
    "    elif (x >= 70 and x < 80):\n",
    "        return \"C\"\n",
    "    elif (x >= 65 and x < 70):\n",
    "        return \"D\"\n",
    "    return \"F\""
   ]
  },
  {
   "cell_type": "code",
   "execution_count": 31,
   "metadata": {
    "ExecuteTime": {
     "end_time": "2019-02-15T20:18:57.062266Z",
     "start_time": "2019-02-15T20:18:57.057265Z"
    },
    "hidden": true
   },
   "outputs": [],
   "source": [
    "# define some sample sequences to operate on\n",
    "nums = (1, 8, 4, 5, 13, 26, 381, 410, 58, 47)\n",
    "chars = \"abcDeFGHiJklmnoP\"\n",
    "grades = (81, 89, 94, 78, 61, 66, 99, 74)"
   ]
  },
  {
   "cell_type": "code",
   "execution_count": 32,
   "metadata": {
    "ExecuteTime": {
     "end_time": "2019-02-15T20:19:09.637907Z",
     "start_time": "2019-02-15T20:19:09.631905Z"
    },
    "hidden": true
   },
   "outputs": [
    {
     "data": {
      "text/plain": [
       "[1, 5, 13, 381, 47]"
      ]
     },
     "execution_count": 32,
     "metadata": {},
     "output_type": "execute_result"
    }
   ],
   "source": [
    "# use filter to remove items from a list\n",
    "odds = list(filter(filterFunc, nums))\n",
    "odds"
   ]
  },
  {
   "cell_type": "code",
   "execution_count": 33,
   "metadata": {
    "ExecuteTime": {
     "end_time": "2019-02-15T20:19:20.130194Z",
     "start_time": "2019-02-15T20:19:20.124190Z"
    },
    "hidden": true
   },
   "outputs": [
    {
     "data": {
      "text/plain": [
       "['a', 'b', 'c', 'e', 'i', 'k', 'l', 'm', 'n', 'o']"
      ]
     },
     "execution_count": 33,
     "metadata": {},
     "output_type": "execute_result"
    }
   ],
   "source": [
    "# use filter on non-numeric sequence\n",
    "lowers = list(filter(filterFunc2, chars))\n",
    "lowers"
   ]
  },
  {
   "cell_type": "code",
   "execution_count": 34,
   "metadata": {
    "ExecuteTime": {
     "end_time": "2019-02-15T20:19:31.650006Z",
     "start_time": "2019-02-15T20:19:31.643001Z"
    },
    "hidden": true
   },
   "outputs": [
    {
     "data": {
      "text/plain": [
       "[1, 64, 16, 25, 169, 676, 145161, 168100, 3364, 2209]"
      ]
     },
     "execution_count": 34,
     "metadata": {},
     "output_type": "execute_result"
    }
   ],
   "source": [
    "# use map to create a new sequence of values\n",
    "squares = list(map(squareFunc, nums))\n",
    "squares"
   ]
  },
  {
   "cell_type": "code",
   "execution_count": 35,
   "metadata": {
    "ExecuteTime": {
     "end_time": "2019-02-15T20:19:44.345706Z",
     "start_time": "2019-02-15T20:19:44.339703Z"
    },
    "hidden": true
   },
   "outputs": [
    {
     "data": {
      "text/plain": [
       "['F', 'D', 'C', 'C', 'B', 'B', 'A', 'A']"
      ]
     },
     "execution_count": 35,
     "metadata": {},
     "output_type": "execute_result"
    }
   ],
   "source": [
    "# use sorted and map to change numbers to grades\n",
    "grades = sorted(grades)\n",
    "letters = list(map(toGrade, grades))\n",
    "letters"
   ]
  },
  {
   "cell_type": "markdown",
   "metadata": {
    "heading_collapsed": true,
    "hidden": true
   },
   "source": [
    "### Itertools"
   ]
  },
  {
   "cell_type": "markdown",
   "metadata": {
    "hidden": true
   },
   "source": [
    "Now this is not technically a set of built in language functions, but they are part of the standard library that comes with Python, and they are incredibly useful for creating iterators to handle a variety of common scenarios.\n",
    "\n",
    "Infinite iterators that will generate values for as long as you need them and they just never end.  \n",
    "  \n",
    "So the first is called `cycle`, and it does what its name implies, it cycles over a set of values.\n",
    "The next infinite iterator is called a `count` iterator. Count iterator does pretty much what you'd expect, it creates a counter.  \n",
    "Another interesting iterator is the `accumulate` function which will aggregate values together. It defaults to addition, but it can be changed.  \n",
    "Last is the `chain` function. So the chain function will take multiple sequences and chain them together to act as one."
   ]
  },
  {
   "cell_type": "code",
   "execution_count": 36,
   "metadata": {
    "ExecuteTime": {
     "end_time": "2019-02-15T20:25:18.707455Z",
     "start_time": "2019-02-15T20:25:18.703454Z"
    },
    "hidden": true
   },
   "outputs": [],
   "source": [
    "import itertools\n",
    "\n",
    "\n",
    "def testFunction(x):\n",
    "    return x < 40"
   ]
  },
  {
   "cell_type": "code",
   "execution_count": 37,
   "metadata": {
    "ExecuteTime": {
     "end_time": "2019-02-15T20:25:37.690397Z",
     "start_time": "2019-02-15T20:25:37.684393Z"
    },
    "hidden": true
   },
   "outputs": [
    {
     "name": "stdout",
     "output_type": "stream",
     "text": [
      "Joe\n",
      "John\n",
      "Mike\n",
      "Joe\n"
     ]
    }
   ],
   "source": [
    "# cycle iterator can be used to cycle over a collection\n",
    "seq1 = [\"Joe\", \"John\", \"Mike\"]\n",
    "cycle1 = itertools.cycle(seq1)\n",
    "print(next(cycle1))\n",
    "print(next(cycle1))\n",
    "print(next(cycle1))\n",
    "print(next(cycle1))"
   ]
  },
  {
   "cell_type": "code",
   "execution_count": 38,
   "metadata": {
    "ExecuteTime": {
     "end_time": "2019-02-15T20:25:43.531351Z",
     "start_time": "2019-02-15T20:25:43.526348Z"
    },
    "hidden": true
   },
   "outputs": [
    {
     "name": "stdout",
     "output_type": "stream",
     "text": [
      "100\n",
      "110\n",
      "120\n"
     ]
    }
   ],
   "source": [
    "# use count to create a simple counter\n",
    "count1 = itertools.count(100, 10)\n",
    "print(next(count1))\n",
    "print(next(count1))\n",
    "print(next(count1))"
   ]
  },
  {
   "cell_type": "code",
   "execution_count": 39,
   "metadata": {
    "ExecuteTime": {
     "end_time": "2019-02-15T20:25:55.913749Z",
     "start_time": "2019-02-15T20:25:55.906743Z"
    },
    "hidden": true
   },
   "outputs": [
    {
     "data": {
      "text/plain": [
       "[10, 20, 30, 40, 50, 50, 50]"
      ]
     },
     "execution_count": 39,
     "metadata": {},
     "output_type": "execute_result"
    }
   ],
   "source": [
    "# accumulate creates an iterator that accumulates values\n",
    "vals = [10,20,30,40,50,40,30]\n",
    "acc = itertools.accumulate(vals, max)\n",
    "list(acc)"
   ]
  },
  {
   "cell_type": "code",
   "execution_count": 40,
   "metadata": {
    "ExecuteTime": {
     "end_time": "2019-02-15T20:26:06.973239Z",
     "start_time": "2019-02-15T20:26:06.968237Z"
    },
    "hidden": true
   },
   "outputs": [
    {
     "data": {
      "text/plain": [
       "['A', 'B', 'C', 'D', '1', '2', '3', '4']"
      ]
     },
     "execution_count": 40,
     "metadata": {},
     "output_type": "execute_result"
    }
   ],
   "source": [
    "# use chain to connect sequences together\n",
    "x = itertools.chain(\"ABCD\", \"1234\")\n",
    "list(x)"
   ]
  },
  {
   "cell_type": "markdown",
   "metadata": {
    "hidden": true
   },
   "source": [
    "The Itertools modules provides two similar functions called dropwhile and takewhile. So these iterators will provide values until a trigger value is reached, at which point they'll stop. So both of these functions take a predicate function to perform the value test. Dropwhile will drop values from the sequence while the test function returns true, and then it will start returning every value after that.\n",
    "\n",
    "And then takewhile is the opposite. It will return values from the sequence while the predicate function returns true, and then it will stop giving you values."
   ]
  },
  {
   "cell_type": "code",
   "execution_count": 41,
   "metadata": {
    "ExecuteTime": {
     "end_time": "2019-02-15T20:26:49.752369Z",
     "start_time": "2019-02-15T20:26:49.745364Z"
    },
    "hidden": true
   },
   "outputs": [
    {
     "data": {
      "text/plain": [
       "[40, 50, 40, 30]"
      ]
     },
     "execution_count": 41,
     "metadata": {},
     "output_type": "execute_result"
    }
   ],
   "source": [
    "# dropwhile and takewhile will return values until\n",
    "# a certain condition is met that stops them\n",
    "list(itertools.dropwhile(testFunction, vals))"
   ]
  },
  {
   "cell_type": "code",
   "execution_count": 42,
   "metadata": {
    "ExecuteTime": {
     "end_time": "2019-02-15T20:26:50.608944Z",
     "start_time": "2019-02-15T20:26:50.602941Z"
    },
    "hidden": true
   },
   "outputs": [
    {
     "data": {
      "text/plain": [
       "[10, 20, 30]"
      ]
     },
     "execution_count": 42,
     "metadata": {},
     "output_type": "execute_result"
    }
   ],
   "source": [
    "list(itertools.takewhile(testFunction, vals))"
   ]
  },
  {
   "cell_type": "markdown",
   "metadata": {
    "heading_collapsed": true
   },
   "source": [
    "## Advanced Functions"
   ]
  },
  {
   "cell_type": "markdown",
   "metadata": {
    "heading_collapsed": true,
    "hidden": true
   },
   "source": [
    "### Variable Arguments"
   ]
  },
  {
   "cell_type": "markdown",
   "metadata": {
    "hidden": true
   },
   "source": [
    "Python functions support variable argument lists and this makes it possible to build functions that have a high degree of flexibility by accepting different numbers of parameters.  \n",
    "\n",
    "A good example of this might be an addition function that adds up the parameters passed to it. Now it would be pretty inconvenient to require cause of this function to have to confirm to putting all the numbers into a list. So defining the function to accept a variable list of parameters would be a better way to go. This parameter has to come after all the other positional parameters that the function defines.  \n",
    "  \n",
    "There is a potential drawback to using variable argument lists. And that is that if you decide later to change the function signature to add more positional parameters, then all of the callers of your function will also have to change."
   ]
  },
  {
   "cell_type": "code",
   "execution_count": 43,
   "metadata": {
    "ExecuteTime": {
     "end_time": "2019-02-15T20:30:35.461697Z",
     "start_time": "2019-02-15T20:30:35.457695Z"
    },
    "hidden": true
   },
   "outputs": [],
   "source": [
    "# define a function that takes variable arguments\n",
    "def addition(base, *args):\n",
    "    result = 0\n",
    "    for arg in args:\n",
    "        result += arg\n",
    "    return result"
   ]
  },
  {
   "cell_type": "code",
   "execution_count": 44,
   "metadata": {
    "ExecuteTime": {
     "end_time": "2019-02-15T20:31:13.217313Z",
     "start_time": "2019-02-15T20:31:13.211309Z"
    },
    "hidden": true
   },
   "outputs": [
    {
     "data": {
      "text/plain": [
       "45"
      ]
     },
     "execution_count": 44,
     "metadata": {},
     "output_type": "execute_result"
    }
   ],
   "source": [
    "addition(5, 10, 15, 20)"
   ]
  },
  {
   "cell_type": "code",
   "execution_count": 45,
   "metadata": {
    "ExecuteTime": {
     "end_time": "2019-02-15T20:31:13.896768Z",
     "start_time": "2019-02-15T20:31:13.891765Z"
    },
    "hidden": true
   },
   "outputs": [
    {
     "data": {
      "text/plain": [
       "5"
      ]
     },
     "execution_count": 45,
     "metadata": {},
     "output_type": "execute_result"
    }
   ],
   "source": [
    "addition(1, 2, 3)"
   ]
  },
  {
   "cell_type": "code",
   "execution_count": 46,
   "metadata": {
    "ExecuteTime": {
     "end_time": "2019-02-15T20:31:14.747340Z",
     "start_time": "2019-02-15T20:31:14.741334Z"
    },
    "hidden": true
   },
   "outputs": [
    {
     "data": {
      "text/plain": [
       "45"
      ]
     },
     "execution_count": 46,
     "metadata": {},
     "output_type": "execute_result"
    }
   ],
   "source": [
    "# pass an existing list\n",
    "myNums = [5, 10, 15, 20]\n",
    "addition(*myNums)"
   ]
  },
  {
   "cell_type": "markdown",
   "metadata": {
    "heading_collapsed": true,
    "hidden": true
   },
   "source": [
    "### Lambda Functions"
   ]
  },
  {
   "cell_type": "markdown",
   "metadata": {
    "hidden": true
   },
   "source": [
    "Lambda functions can be passed as arguments to other functions to perform some processing work. Typically, you see these used in situations where defining a whole separate function would needlessly increase the complexity of the code and reduce readability.  \n",
    "\n",
    "Lambdas are defined by using the keyword lambda followed by any arguments that the lambda function takes, and then followed by an expression."
   ]
  },
  {
   "cell_type": "code",
   "execution_count": 47,
   "metadata": {
    "ExecuteTime": {
     "end_time": "2019-02-15T20:32:30.865958Z",
     "start_time": "2019-02-15T20:32:30.861955Z"
    },
    "hidden": true
   },
   "outputs": [],
   "source": [
    "def CelsisusToFahrenheit(temp):\n",
    "    return (temp * 9/5) + 32\n",
    "\n",
    "\n",
    "def FahrenheitToCelsisus(temp):\n",
    "    return (temp-32) * 5/9"
   ]
  },
  {
   "cell_type": "code",
   "execution_count": 48,
   "metadata": {
    "ExecuteTime": {
     "end_time": "2019-02-15T20:32:40.394561Z",
     "start_time": "2019-02-15T20:32:40.390557Z"
    },
    "hidden": true
   },
   "outputs": [],
   "source": [
    "ctemps = [0, 12, 34, 100]\n",
    "ftemps = [32, 65, 100, 212]"
   ]
  },
  {
   "cell_type": "code",
   "execution_count": 49,
   "metadata": {
    "ExecuteTime": {
     "end_time": "2019-02-15T20:33:19.436328Z",
     "start_time": "2019-02-15T20:33:19.430323Z"
    },
    "hidden": true
   },
   "outputs": [
    {
     "data": {
      "text/plain": [
       "[0.0, 18.333333333333332, 37.77777777777778, 100.0]"
      ]
     },
     "execution_count": 49,
     "metadata": {},
     "output_type": "execute_result"
    }
   ],
   "source": [
    "# Use regular functions to convert temps\n",
    "list(map(FahrenheitToCelsisus, ftemps))"
   ]
  },
  {
   "cell_type": "code",
   "execution_count": 50,
   "metadata": {
    "ExecuteTime": {
     "end_time": "2019-02-15T20:33:20.811249Z",
     "start_time": "2019-02-15T20:33:20.802243Z"
    },
    "hidden": true
   },
   "outputs": [
    {
     "data": {
      "text/plain": [
       "[32.0, 53.6, 93.2, 212.0]"
      ]
     },
     "execution_count": 50,
     "metadata": {},
     "output_type": "execute_result"
    }
   ],
   "source": [
    "list(map(CelsisusToFahrenheit, ctemps))"
   ]
  },
  {
   "cell_type": "code",
   "execution_count": 51,
   "metadata": {
    "ExecuteTime": {
     "end_time": "2019-02-15T20:33:48.119042Z",
     "start_time": "2019-02-15T20:33:48.113040Z"
    },
    "hidden": true
   },
   "outputs": [
    {
     "data": {
      "text/plain": [
       "[0.0, 18.333333333333332, 37.77777777777778, 100.0]"
      ]
     },
     "execution_count": 51,
     "metadata": {},
     "output_type": "execute_result"
    }
   ],
   "source": [
    "# Use lambdas to accomplish the same thing\n",
    "list(map(lambda t: (t-32) * 5/9, ftemps))"
   ]
  },
  {
   "cell_type": "code",
   "execution_count": 52,
   "metadata": {
    "ExecuteTime": {
     "end_time": "2019-02-15T20:33:56.802991Z",
     "start_time": "2019-02-15T20:33:56.796988Z"
    },
    "hidden": true
   },
   "outputs": [
    {
     "data": {
      "text/plain": [
       "[32.0, 53.6, 93.2, 212.0]"
      ]
     },
     "execution_count": 52,
     "metadata": {},
     "output_type": "execute_result"
    }
   ],
   "source": [
    "list(map(lambda t: (t * 9/5) + 32, ctemps))"
   ]
  },
  {
   "cell_type": "markdown",
   "metadata": {
    "heading_collapsed": true,
    "hidden": true
   },
   "source": [
    "### Keywords Arguments"
   ]
  },
  {
   "cell_type": "markdown",
   "metadata": {
    "hidden": true
   },
   "source": [
    "Python provides away for specifying function parameters using keywords. \n",
    "\n",
    "So for example, you can define a function that takes positional arguments along with keyword arguments that take optional values like this. Then, when you want to call the function, you can specify values by position or by keyword. In some cases however, you may want to require the callers of your particular function specify arguments using keywords only in order to provide better readability of the code. \n",
    "\n",
    "So for example, suppose we have a function that performs a critical operation. And it provides an option to suppress exceptions. So one way to write this function would be to specify a regular argument and have it default to a certain value. Now the problem with this approach is that the function can be invoked just by passing a regular positional argument. And since this parameter has a significant effect on how the program runs, it might be better to require that the parameter be specified by keyword. This way, the function caller is aware of the significance of the parameter and others who read the code can easily see and understand what's happening.\n",
    "\n",
    "So to accomplish this in Python 3, you can separate your positional arguments with a single asterisk character followed by parameters that are keyword only."
   ]
  },
  {
   "cell_type": "code",
   "execution_count": 53,
   "metadata": {
    "ExecuteTime": {
     "end_time": "2019-02-15T20:36:10.903775Z",
     "start_time": "2019-02-15T20:36:10.899772Z"
    },
    "hidden": true
   },
   "outputs": [],
   "source": [
    "# Demonstrate the use of keyword-only arguments\n",
    "# use keyword-only arguments to help ensure code clarity\n",
    "def myFunction(arg1, arg2, *, suppressExceptions=False):\n",
    "    print(arg1, arg2, suppressExceptions)"
   ]
  },
  {
   "cell_type": "code",
   "execution_count": 54,
   "metadata": {
    "ExecuteTime": {
     "end_time": "2019-02-15T20:36:16.691725Z",
     "start_time": "2019-02-15T20:36:16.679719Z"
    },
    "hidden": true
   },
   "outputs": [
    {
     "ename": "TypeError",
     "evalue": "myFunction() takes 2 positional arguments but 3 were given",
     "output_type": "error",
     "traceback": [
      "\u001b[1;31m---------------------------------------------------------------------------\u001b[0m",
      "\u001b[1;31mTypeError\u001b[0m                                 Traceback (most recent call last)",
      "\u001b[1;32m<ipython-input-54-f9df0a3b477a>\u001b[0m in \u001b[0;36m<module>\u001b[1;34m()\u001b[0m\n\u001b[1;32m----> 1\u001b[1;33m \u001b[0mmyFunction\u001b[0m\u001b[1;33m(\u001b[0m\u001b[1;36m1\u001b[0m\u001b[1;33m,\u001b[0m \u001b[1;36m2\u001b[0m\u001b[1;33m,\u001b[0m \u001b[1;32mTrue\u001b[0m\u001b[1;33m)\u001b[0m\u001b[1;33m\u001b[0m\u001b[0m\n\u001b[0m",
      "\u001b[1;31mTypeError\u001b[0m: myFunction() takes 2 positional arguments but 3 were given"
     ]
    }
   ],
   "source": [
    "# try to call the function without the keyword\n",
    "myFunction(1, 2, True)"
   ]
  },
  {
   "cell_type": "code",
   "execution_count": 55,
   "metadata": {
    "ExecuteTime": {
     "end_time": "2019-02-15T20:36:33.623505Z",
     "start_time": "2019-02-15T20:36:33.618502Z"
    },
    "hidden": true
   },
   "outputs": [
    {
     "name": "stdout",
     "output_type": "stream",
     "text": [
      "1 2 True\n"
     ]
    }
   ],
   "source": [
    "myFunction(1, 2, suppressExceptions=True)"
   ]
  },
  {
   "cell_type": "markdown",
   "metadata": {
    "heading_collapsed": true
   },
   "source": [
    "## Collections"
   ]
  },
  {
   "cell_type": "markdown",
   "metadata": {
    "heading_collapsed": true,
    "hidden": true
   },
   "source": [
    "### Named Tuple"
   ]
  },
  {
   "cell_type": "markdown",
   "metadata": {
    "hidden": true
   },
   "source": [
    "Now, suppose I wanted to define a data structure to represent a geometric point on a typical x and y axis. I could easily do this by defining a regular tuple with two elements, the x and y values of the point and to access these values I can use\n",
    "positional argument indexes to get each one. \n",
    "\n",
    "Namedtuples help to solve this problem by assigning meaning to each of the values along with the tuple itself. And they also provide some helpful functions for working with them."
   ]
  },
  {
   "cell_type": "code",
   "execution_count": 56,
   "metadata": {
    "ExecuteTime": {
     "end_time": "2019-02-15T20:39:10.991405Z",
     "start_time": "2019-02-15T20:39:10.987402Z"
    },
    "hidden": true
   },
   "outputs": [],
   "source": [
    "from collections import namedtuple"
   ]
  },
  {
   "cell_type": "code",
   "execution_count": 58,
   "metadata": {
    "ExecuteTime": {
     "end_time": "2019-02-15T20:39:59.174955Z",
     "start_time": "2019-02-15T20:39:59.170953Z"
    },
    "hidden": true
   },
   "outputs": [],
   "source": [
    "# create a Point namedtuple\n",
    "Point = namedtuple(\"Point\", \"x y\")"
   ]
  },
  {
   "cell_type": "code",
   "execution_count": 59,
   "metadata": {
    "ExecuteTime": {
     "end_time": "2019-02-15T20:39:59.994506Z",
     "start_time": "2019-02-15T20:39:59.988502Z"
    },
    "hidden": true
   },
   "outputs": [
    {
     "data": {
      "text/plain": [
       "Point(x=10, y=20)"
      ]
     },
     "execution_count": 59,
     "metadata": {},
     "output_type": "execute_result"
    }
   ],
   "source": [
    "p1 = Point(10, 20)\n",
    "p1"
   ]
  },
  {
   "cell_type": "code",
   "execution_count": 60,
   "metadata": {
    "ExecuteTime": {
     "end_time": "2019-02-15T20:40:12.178744Z",
     "start_time": "2019-02-15T20:40:12.173742Z"
    },
    "hidden": true
   },
   "outputs": [
    {
     "data": {
      "text/plain": [
       "Point(x=30, y=40)"
      ]
     },
     "execution_count": 60,
     "metadata": {},
     "output_type": "execute_result"
    }
   ],
   "source": [
    "p2 = Point(30, 40)\n",
    "p2"
   ]
  },
  {
   "cell_type": "code",
   "execution_count": 61,
   "metadata": {
    "ExecuteTime": {
     "end_time": "2019-02-15T20:40:21.186780Z",
     "start_time": "2019-02-15T20:40:21.180778Z"
    },
    "hidden": true
   },
   "outputs": [
    {
     "data": {
      "text/plain": [
       "(10, 20)"
      ]
     },
     "execution_count": 61,
     "metadata": {},
     "output_type": "execute_result"
    }
   ],
   "source": [
    "(p1.x, p1.y)"
   ]
  },
  {
   "cell_type": "code",
   "execution_count": 62,
   "metadata": {
    "ExecuteTime": {
     "end_time": "2019-02-15T20:40:34.302749Z",
     "start_time": "2019-02-15T20:40:34.296749Z"
    },
    "hidden": true
   },
   "outputs": [
    {
     "data": {
      "text/plain": [
       "(Point(x=10, y=20), Point(x=30, y=40))"
      ]
     },
     "execution_count": 62,
     "metadata": {},
     "output_type": "execute_result"
    }
   ],
   "source": [
    "p1, p2"
   ]
  },
  {
   "cell_type": "code",
   "execution_count": 63,
   "metadata": {
    "ExecuteTime": {
     "end_time": "2019-02-15T20:40:48.609362Z",
     "start_time": "2019-02-15T20:40:48.603360Z"
    },
    "hidden": true
   },
   "outputs": [
    {
     "data": {
      "text/plain": [
       "Point(x=100, y=20)"
      ]
     },
     "execution_count": 63,
     "metadata": {},
     "output_type": "execute_result"
    }
   ],
   "source": [
    "# use _replace to create a new instance\n",
    "p1 = p1._replace(x=100)\n",
    "p1"
   ]
  },
  {
   "cell_type": "markdown",
   "metadata": {
    "heading_collapsed": true,
    "hidden": true
   },
   "source": [
    "### Default Dictionary"
   ]
  },
  {
   "cell_type": "markdown",
   "metadata": {
    "hidden": true
   },
   "source": [
    "The collections module provides two interesting dictionary subclasses to help out with common scenarios where a regular dictionary would need unnecessary code. It's a fairly common scenario to use dictionaries to keep track of data, such as the result of counting operations.\n",
    "\n",
    "So, if you have a situation where the fact that a key is missing from the dictionary is an important indicator, then default dict is probably not the right collection to use. In other situations however, it can make your code simpler and easier to read and test."
   ]
  },
  {
   "cell_type": "code",
   "execution_count": 64,
   "metadata": {
    "ExecuteTime": {
     "end_time": "2019-02-15T20:42:01.270535Z",
     "start_time": "2019-02-15T20:42:01.267533Z"
    },
    "hidden": true
   },
   "outputs": [],
   "source": [
    "from collections import defaultdict"
   ]
  },
  {
   "cell_type": "code",
   "execution_count": 66,
   "metadata": {
    "ExecuteTime": {
     "end_time": "2019-02-15T20:42:15.201977Z",
     "start_time": "2019-02-15T20:42:15.197974Z"
    },
    "hidden": true
   },
   "outputs": [],
   "source": [
    "# define a list of items that we want to count\n",
    "fruits = ['apple', 'pear', 'orange', 'banana',\n",
    "          'apple', 'grape', 'banana', 'banana']"
   ]
  },
  {
   "cell_type": "code",
   "execution_count": 67,
   "metadata": {
    "ExecuteTime": {
     "end_time": "2019-02-15T20:42:24.098083Z",
     "start_time": "2019-02-15T20:42:24.095081Z"
    },
    "hidden": true
   },
   "outputs": [],
   "source": [
    "# use a dictionary to count each element\n",
    "fruitCounter = defaultdict(int)"
   ]
  },
  {
   "cell_type": "code",
   "execution_count": 68,
   "metadata": {
    "ExecuteTime": {
     "end_time": "2019-02-15T20:42:47.309893Z",
     "start_time": "2019-02-15T20:42:47.302889Z"
    },
    "hidden": true
   },
   "outputs": [
    {
     "name": "stdout",
     "output_type": "stream",
     "text": [
      "apple: 2\n",
      "pear: 1\n",
      "orange: 1\n",
      "banana: 3\n",
      "grape: 1\n"
     ]
    }
   ],
   "source": [
    "# Count the elements in the list\n",
    "for fruit in fruits:\n",
    "    fruitCounter[fruit] += 1\n",
    "    \n",
    "# print the result\n",
    "for (k, v) in fruitCounter.items():\n",
    "    print(k + \": \" + str(v))"
   ]
  },
  {
   "cell_type": "code",
   "execution_count": null,
   "metadata": {
    "hidden": true
   },
   "outputs": [],
   "source": []
  },
  {
   "cell_type": "markdown",
   "metadata": {
    "heading_collapsed": true,
    "hidden": true
   },
   "source": [
    "###  Counters"
   ]
  },
  {
   "cell_type": "markdown",
   "metadata": {
    "hidden": true
   },
   "source": [
    "Collections modules supplies a counter class which is a dictionary subclass for counting hashable objects. Counters have some nice additional features compared to default dictionary for working with numbers of items."
   ]
  },
  {
   "cell_type": "code",
   "execution_count": 21,
   "metadata": {
    "ExecuteTime": {
     "end_time": "2019-01-26T16:28:28.908406Z",
     "start_time": "2019-01-26T16:28:28.901400Z"
    },
    "hidden": true
   },
   "outputs": [],
   "source": [
    "# Demonstrate the usage of defaultdict objects\n",
    "\n",
    "\n",
    "\n",
    "\n",
    "def part4_2():\n",
    "    \n",
    "\n",
    "\n",
    "\n",
    "\n",
    "\n"
   ]
  },
  {
   "cell_type": "code",
   "execution_count": 22,
   "metadata": {
    "ExecuteTime": {
     "end_time": "2019-01-26T16:28:33.682642Z",
     "start_time": "2019-01-26T16:28:33.679642Z"
    },
    "hidden": true
   },
   "outputs": [
    {
     "name": "stdout",
     "output_type": "stream",
     "text": [
      "apple: 2\n",
      "pear: 1\n",
      "orange: 1\n",
      "banana: 3\n",
      "grape: 1\n"
     ]
    }
   ],
   "source": [
    "part4_2()"
   ]
  },
  {
   "cell_type": "code",
   "execution_count": 69,
   "metadata": {
    "ExecuteTime": {
     "end_time": "2019-02-15T20:44:31.494401Z",
     "start_time": "2019-02-15T20:44:31.490399Z"
    },
    "hidden": true
   },
   "outputs": [],
   "source": [
    "from collections import Counter"
   ]
  },
  {
   "cell_type": "code",
   "execution_count": 70,
   "metadata": {
    "ExecuteTime": {
     "end_time": "2019-02-15T20:44:55.096537Z",
     "start_time": "2019-02-15T20:44:55.091534Z"
    },
    "hidden": true
   },
   "outputs": [],
   "source": [
    "# list of students in class 1\n",
    "class1 = [\"Bob\", \"James\", \"Chad\", \"Darcy\", \"Penny\", \"Hannah\"\n",
    "          \"Kevin\", \"James\", \"Melanie\", \"Becky\", \"Steve\", \"Frank\"]\n",
    "\n",
    "# list of students in class 2\n",
    "class2 = [\"Bill\", \"Barry\", \"Cindy\", \"Debbie\", \"Frank\",\n",
    "          \"Gabby\", \"Kelly\", \"James\", \"Joe\", \"Sam\", \"Tara\", \"Ziggy\"]\n",
    "\n",
    "# Create a Counter for class1 and class2\n",
    "c1 = Counter(class1)\n",
    "c2 = Counter(class2)"
   ]
  },
  {
   "cell_type": "code",
   "execution_count": 71,
   "metadata": {
    "ExecuteTime": {
     "end_time": "2019-02-15T20:46:25.638388Z",
     "start_time": "2019-02-15T20:46:25.631386Z"
    },
    "hidden": true
   },
   "outputs": [
    {
     "data": {
      "text/plain": [
       "2"
      ]
     },
     "execution_count": 71,
     "metadata": {},
     "output_type": "execute_result"
    }
   ],
   "source": [
    "# How many students in class 1 named James?\n",
    "c1[\"James\"]"
   ]
  },
  {
   "cell_type": "code",
   "execution_count": 72,
   "metadata": {
    "ExecuteTime": {
     "end_time": "2019-02-15T20:46:26.528985Z",
     "start_time": "2019-02-15T20:46:26.522982Z"
    },
    "hidden": true
   },
   "outputs": [
    {
     "data": {
      "text/plain": [
       "11"
      ]
     },
     "execution_count": 72,
     "metadata": {},
     "output_type": "execute_result"
    }
   ],
   "source": [
    "# How many students are in class 1?\n",
    "sum(c1.values())"
   ]
  },
  {
   "cell_type": "code",
   "execution_count": 73,
   "metadata": {
    "ExecuteTime": {
     "end_time": "2019-02-15T20:46:27.225452Z",
     "start_time": "2019-02-15T20:46:27.219449Z"
    },
    "hidden": true
   },
   "outputs": [
    {
     "data": {
      "text/plain": [
       "23"
      ]
     },
     "execution_count": 73,
     "metadata": {},
     "output_type": "execute_result"
    }
   ],
   "source": [
    "# Combine the two classes\n",
    "c1.update(class2)\n",
    "sum(c1.values())"
   ]
  },
  {
   "cell_type": "code",
   "execution_count": 74,
   "metadata": {
    "ExecuteTime": {
     "end_time": "2019-02-15T20:46:28.489301Z",
     "start_time": "2019-02-15T20:46:28.482294Z"
    },
    "hidden": true
   },
   "outputs": [
    {
     "data": {
      "text/plain": [
       "[('James', 3), ('Frank', 2), ('Bob', 1)]"
      ]
     },
     "execution_count": 74,
     "metadata": {},
     "output_type": "execute_result"
    }
   ],
   "source": [
    "# What's the most common name in the two classes?\n",
    "c1.most_common(3)"
   ]
  },
  {
   "cell_type": "code",
   "execution_count": 75,
   "metadata": {
    "ExecuteTime": {
     "end_time": "2019-02-15T20:46:29.290837Z",
     "start_time": "2019-02-15T20:46:29.285833Z"
    },
    "hidden": true
   },
   "outputs": [
    {
     "data": {
      "text/plain": [
       "[('James', 2)]"
      ]
     },
     "execution_count": 75,
     "metadata": {},
     "output_type": "execute_result"
    }
   ],
   "source": [
    "# Separate the classes again\n",
    "c1.subtract(class2)\n",
    "c1.most_common(1)"
   ]
  },
  {
   "cell_type": "code",
   "execution_count": 76,
   "metadata": {
    "ExecuteTime": {
     "end_time": "2019-02-15T20:46:30.247477Z",
     "start_time": "2019-02-15T20:46:30.241475Z"
    },
    "hidden": true
   },
   "outputs": [
    {
     "data": {
      "text/plain": [
       "Counter({'James': 1, 'Frank': 1})"
      ]
     },
     "execution_count": 76,
     "metadata": {},
     "output_type": "execute_result"
    }
   ],
   "source": [
    "# What's common between the two classes?\n",
    "c1 & c2"
   ]
  },
  {
   "cell_type": "markdown",
   "metadata": {
    "heading_collapsed": true,
    "hidden": true
   },
   "source": [
    "### Ordered Dictionary"
   ]
  },
  {
   "cell_type": "markdown",
   "metadata": {
    "hidden": true
   },
   "source": [
    "One of the main downsides of the regular dictionary object in Python is that it doesn't keep track of any order among the items. The OrderedDict is a dictionary object that remembers the order in which items are inserted. This is a nice feature because it means you can substitute an OrderedDict anywhere you would use a regular dictionary."
   ]
  },
  {
   "cell_type": "code",
   "execution_count": 77,
   "metadata": {
    "ExecuteTime": {
     "end_time": "2019-02-15T20:47:25.016115Z",
     "start_time": "2019-02-15T20:47:25.012112Z"
    },
    "hidden": true
   },
   "outputs": [],
   "source": [
    "from collections import OrderedDict"
   ]
  },
  {
   "cell_type": "code",
   "execution_count": 78,
   "metadata": {
    "ExecuteTime": {
     "end_time": "2019-02-15T20:48:13.467697Z",
     "start_time": "2019-02-15T20:48:13.460693Z"
    },
    "hidden": true
   },
   "outputs": [],
   "source": [
    "# list of sport teams with wins and losses\n",
    "sportTeams = [(\"Royals\", (18, 12)), (\"Rockets\", (24, 6)), \n",
    "            (\"Cardinals\", (20, 10)), (\"Dragons\", (22, 8)),\n",
    "            (\"Kings\", (15, 15)), (\"Chargers\", (20, 10)), \n",
    "            (\"Jets\", (16, 14)), (\"Warriors\", (25, 5))]"
   ]
  },
  {
   "cell_type": "code",
   "execution_count": 79,
   "metadata": {
    "ExecuteTime": {
     "end_time": "2019-02-15T20:48:14.066125Z",
     "start_time": "2019-02-15T20:48:14.062123Z"
    },
    "hidden": true
   },
   "outputs": [],
   "source": [
    "# sort the teams by number of wins\n",
    "sortedTeams = sorted(sportTeams, key=lambda t: t[1][0], reverse=True)"
   ]
  },
  {
   "cell_type": "code",
   "execution_count": 80,
   "metadata": {
    "ExecuteTime": {
     "end_time": "2019-02-15T20:48:18.309009Z",
     "start_time": "2019-02-15T20:48:18.301006Z"
    },
    "hidden": true
   },
   "outputs": [
    {
     "data": {
      "text/plain": [
       "OrderedDict([('Warriors', (25, 5)),\n",
       "             ('Rockets', (24, 6)),\n",
       "             ('Dragons', (22, 8)),\n",
       "             ('Cardinals', (20, 10)),\n",
       "             ('Chargers', (20, 10)),\n",
       "             ('Royals', (18, 12)),\n",
       "             ('Jets', (16, 14)),\n",
       "             ('Kings', (15, 15))])"
      ]
     },
     "execution_count": 80,
     "metadata": {},
     "output_type": "execute_result"
    }
   ],
   "source": [
    "# create an ordered dictionary of the teams\n",
    "teams = OrderedDict(sortedTeams)\n",
    "teams"
   ]
  },
  {
   "cell_type": "code",
   "execution_count": 81,
   "metadata": {
    "ExecuteTime": {
     "end_time": "2019-02-15T20:48:20.082324Z",
     "start_time": "2019-02-15T20:48:20.078322Z"
    },
    "hidden": true
   },
   "outputs": [
    {
     "name": "stdout",
     "output_type": "stream",
     "text": [
      "Top team:  Warriors (25, 5)\n"
     ]
    }
   ],
   "source": [
    "# Use popitem to remove the top item\n",
    "tm, wl = teams.popitem(False)\n",
    "print(\"Top team: \", tm, wl)"
   ]
  },
  {
   "cell_type": "code",
   "execution_count": 82,
   "metadata": {
    "ExecuteTime": {
     "end_time": "2019-02-15T20:48:22.591007Z",
     "start_time": "2019-02-15T20:48:22.585003Z"
    },
    "hidden": true
   },
   "outputs": [
    {
     "name": "stdout",
     "output_type": "stream",
     "text": [
      "1 Rockets\n",
      "2 Dragons\n",
      "3 Cardinals\n",
      "4 Chargers\n"
     ]
    }
   ],
   "source": [
    "# What are next the top 4 teams?\n",
    "for i, team in enumerate(teams, start=1):\n",
    "    print(i, team)\n",
    "    if i == 4:\n",
    "        break"
   ]
  },
  {
   "cell_type": "code",
   "execution_count": 83,
   "metadata": {
    "ExecuteTime": {
     "end_time": "2019-02-15T20:48:23.716760Z",
     "start_time": "2019-02-15T20:48:23.711758Z"
    },
    "hidden": true
   },
   "outputs": [
    {
     "name": "stdout",
     "output_type": "stream",
     "text": [
      "Equality test:  False\n"
     ]
    }
   ],
   "source": [
    "# test for equality\n",
    "a = OrderedDict({\"a\": 1, \"b\": 2, \"c\": 3})\n",
    "b = OrderedDict({\"a\": 1, \"c\": 3, \"b\": 2})\n",
    "print(\"Equality test: \", a == b)"
   ]
  },
  {
   "cell_type": "markdown",
   "metadata": {
    "heading_collapsed": true
   },
   "source": [
    "## Logging"
   ]
  },
  {
   "cell_type": "markdown",
   "metadata": {
    "heading_collapsed": true,
    "hidden": true
   },
   "source": [
    "### Basic Logging"
   ]
  },
  {
   "cell_type": "markdown",
   "metadata": {
    "hidden": true
   },
   "source": [
    "There are five different methods to use for recording log messages. \n",
    "\n",
    "* Debug, \n",
    "* Info, \n",
    "* Warning, \n",
    "* Error,\n",
    "* Critical.\n",
    "\n",
    "Each of these methods corresponds to a particular type of message which are used to indicate different types of status of the application. \n",
    "\n",
    "* Debug messages are typically used to provide diagnostic information that's useful when you are trying to track down a problem. \n",
    "* Info messages are usually used to indicate that a particular interesting operation was able to complete normally. \n",
    "* Warning messages indicate that something unexpected happened or that a more serious problem might be approaching such as running out of storage space or the inability to communicate with a remote server. \n",
    "* Error messages indicate that a particular operation was unable to successfully complete.\n",
    "* And critical messages indicate that the program has suffered a serious error and might not be able to continue running."
   ]
  },
  {
   "cell_type": "code",
   "execution_count": 84,
   "metadata": {
    "ExecuteTime": {
     "end_time": "2019-02-15T21:47:05.737349Z",
     "start_time": "2019-02-15T21:47:05.733345Z"
    },
    "hidden": true
   },
   "outputs": [],
   "source": [
    "# use the built-in logging module\n",
    "import logging"
   ]
  },
  {
   "cell_type": "code",
   "execution_count": 85,
   "metadata": {
    "ExecuteTime": {
     "end_time": "2019-02-15T21:47:07.334419Z",
     "start_time": "2019-02-15T21:47:07.330416Z"
    },
    "hidden": true
   },
   "outputs": [],
   "source": [
    "# Use basicConfig to configure logging\n",
    "# this is only executed once, subsequent calls to\n",
    "# basicConfig will have no effect\n",
    "logging.basicConfig(level=logging.DEBUG,\n",
    "                    filemode=\"w\",\n",
    "                    filename=\"output.log\")"
   ]
  },
  {
   "cell_type": "code",
   "execution_count": 86,
   "metadata": {
    "ExecuteTime": {
     "end_time": "2019-02-15T21:47:08.428156Z",
     "start_time": "2019-02-15T21:47:08.422148Z"
    },
    "hidden": true
   },
   "outputs": [],
   "source": [
    "# Try out each of the log levels\n",
    "logging.debug(\"This is a debug-level log message\")\n",
    "logging.info(\"This is an info-level log message\")\n",
    "logging.warning(\"This is a warning-level message\")\n",
    "logging.error(\"This is an error-level message\")\n",
    "logging.critical(\"This is a critical-level message\")"
   ]
  },
  {
   "cell_type": "code",
   "execution_count": 87,
   "metadata": {
    "ExecuteTime": {
     "end_time": "2019-02-15T21:47:09.188661Z",
     "start_time": "2019-02-15T21:47:09.184658Z"
    },
    "hidden": true
   },
   "outputs": [],
   "source": [
    "# Output formatted string to the log\n",
    "logging.info(\"Here's a {} variable and an int: {}\".format(\"string\", 10))"
   ]
  },
  {
   "cell_type": "markdown",
   "metadata": {
    "heading_collapsed": true,
    "hidden": true
   },
   "source": [
    "### Custom Logging"
   ]
  },
  {
   "cell_type": "markdown",
   "metadata": {
    "hidden": true
   },
   "source": [
    "The basic config function takes two additional arguments, format and dateformat. The format argument specifies a string that controls the precise formatting of the output message that is sent to the log.\n",
    "\n",
    "The date format argument is used in conjunction with the format argument. If the format argument contains a date specifier then the date format argument is used to format the date string using the same kind of date formatting strings that you would pass to the strftime function. This table lists some of the some of the formatting tokens you can use in the format argument. \n",
    "\n",
    "For example, the asctime token is a human readable time format. The filename and funcName tokens are for the file and function names where the log message originated and so on. "
   ]
  },
  {
   "cell_type": "code",
   "execution_count": 88,
   "metadata": {
    "ExecuteTime": {
     "end_time": "2019-02-15T21:49:28.847485Z",
     "start_time": "2019-02-15T21:49:28.843483Z"
    },
    "hidden": true
   },
   "outputs": [],
   "source": [
    "# Already imported\n",
    "# import logging\n",
    "\n",
    "extData = {'user': 'noname@lol.com'}\n",
    "\n",
    "def anotherFunction():\n",
    "    logging.debug(\"This is a debug-level log message\", extra=extData)"
   ]
  },
  {
   "cell_type": "code",
   "execution_count": 89,
   "metadata": {
    "ExecuteTime": {
     "end_time": "2019-02-15T21:50:00.266832Z",
     "start_time": "2019-02-15T21:50:00.261829Z"
    },
    "hidden": true
   },
   "outputs": [],
   "source": [
    "# set the output file and debug level, and\n",
    "# use a custom formatting specification\n",
    "fmtStr = \"%(asctime)s: %(levelname)s: %(funcName)s Line:%(lineno)d User:%(user)s %(message)s\"\n",
    "dateStr = \"%m/%d/%Y %I:%M:%S %p\"\n",
    "logging.basicConfig(filename=\"output.log\",\n",
    "                    level=logging.DEBUG,\n",
    "                    format=fmtStr,\n",
    "                    datefmt=dateStr)"
   ]
  },
  {
   "cell_type": "code",
   "execution_count": 90,
   "metadata": {
    "ExecuteTime": {
     "end_time": "2019-02-15T21:50:01.672808Z",
     "start_time": "2019-02-15T21:50:01.667806Z"
    },
    "hidden": true
   },
   "outputs": [],
   "source": [
    "logging.info(\"This is an info-level log message\", extra=extData)\n",
    "logging.warning(\"This is a warning-level message\", extra=extData)\n",
    "anotherFunction()"
   ]
  },
  {
   "cell_type": "markdown",
   "metadata": {
    "heading_collapsed": true
   },
   "source": [
    "## Comprehensions"
   ]
  },
  {
   "cell_type": "markdown",
   "metadata": {
    "heading_collapsed": true,
    "hidden": true
   },
   "source": [
    "### List Comprehensions"
   ]
  },
  {
   "cell_type": "code",
   "execution_count": 91,
   "metadata": {
    "ExecuteTime": {
     "end_time": "2019-02-15T21:51:37.959048Z",
     "start_time": "2019-02-15T21:51:37.955045Z"
    },
    "hidden": true
   },
   "outputs": [],
   "source": [
    "# define two lists of numbers\n",
    "evens = [2, 4, 6, 8, 10, 12, 14, 16, 18, 20]\n",
    "odds = [1, 3, 5, 7, 9, 11, 13, 15, 17, 19]"
   ]
  },
  {
   "cell_type": "code",
   "execution_count": 92,
   "metadata": {
    "ExecuteTime": {
     "end_time": "2019-02-15T21:51:38.663521Z",
     "start_time": "2019-02-15T21:51:38.657516Z"
    },
    "hidden": true
   },
   "outputs": [
    {
     "data": {
      "text/plain": [
       "[36, 64, 100, 144, 196]"
      ]
     },
     "execution_count": 92,
     "metadata": {},
     "output_type": "execute_result"
    }
   ],
   "source": [
    "# Perform a mapping and filter function on a list\n",
    "evenSquared = list(map(lambda e: e**2, filter(lambda e: e > 4 and e < 16, evens)))\n",
    "evenSquared"
   ]
  },
  {
   "cell_type": "code",
   "execution_count": 93,
   "metadata": {
    "ExecuteTime": {
     "end_time": "2019-02-15T21:51:39.373997Z",
     "start_time": "2019-02-15T21:51:39.367992Z"
    },
    "hidden": true
   },
   "outputs": [
    {
     "data": {
      "text/plain": [
       "[4, 16, 36, 64, 100, 144, 196, 256, 324, 400]"
      ]
     },
     "execution_count": 93,
     "metadata": {},
     "output_type": "execute_result"
    }
   ],
   "source": [
    "# Derive a new list of numbers frm a given list\n",
    "evenSquared = [e ** 2 for e in evens]\n",
    "evenSquared\n",
    "\n"
   ]
  },
  {
   "cell_type": "code",
   "execution_count": 94,
   "metadata": {
    "ExecuteTime": {
     "end_time": "2019-02-15T21:51:41.233293Z",
     "start_time": "2019-02-15T21:51:41.228290Z"
    },
    "hidden": true
   },
   "outputs": [
    {
     "data": {
      "text/plain": [
       "[25, 49, 81, 121, 169, 225]"
      ]
     },
     "execution_count": 94,
     "metadata": {},
     "output_type": "execute_result"
    }
   ],
   "source": [
    "# Limit the items operated on with a predicate condition\n",
    "oddSquared = [e ** 2 for e in odds if e > 3 and e < 17]\n",
    "oddSquared"
   ]
  },
  {
   "cell_type": "markdown",
   "metadata": {
    "heading_collapsed": true,
    "hidden": true
   },
   "source": [
    "### Dictionary Comprehensions"
   ]
  },
  {
   "cell_type": "code",
   "execution_count": 95,
   "metadata": {
    "ExecuteTime": {
     "end_time": "2019-02-15T21:52:45.347014Z",
     "start_time": "2019-02-15T21:52:45.343012Z"
    },
    "hidden": true
   },
   "outputs": [],
   "source": [
    "# define a list of temperature values\n",
    "ctemps = [0, 12, 34, 100]"
   ]
  },
  {
   "cell_type": "code",
   "execution_count": 96,
   "metadata": {
    "ExecuteTime": {
     "end_time": "2019-02-15T21:52:46.514826Z",
     "start_time": "2019-02-15T21:52:46.508819Z"
    },
    "hidden": true
   },
   "outputs": [
    {
     "data": {
      "text/plain": [
       "{0: 32.0, 12: 53.6, 34: 93.2}"
      ]
     },
     "execution_count": 96,
     "metadata": {},
     "output_type": "execute_result"
    }
   ],
   "source": [
    "# Use a comprehension to build a dictionary\n",
    "tempDict = {t: (t * 9/5) + 32 for t in ctemps if t < 100}\n",
    "tempDict"
   ]
  },
  {
   "cell_type": "code",
   "execution_count": 97,
   "metadata": {
    "ExecuteTime": {
     "end_time": "2019-02-15T21:52:49.277675Z",
     "start_time": "2019-02-15T21:52:49.272673Z"
    },
    "hidden": true
   },
   "outputs": [
    {
     "data": {
      "text/plain": [
       "53.6"
      ]
     },
     "execution_count": 97,
     "metadata": {},
     "output_type": "execute_result"
    }
   ],
   "source": [
    "tempDict[12]"
   ]
  },
  {
   "cell_type": "code",
   "execution_count": 98,
   "metadata": {
    "ExecuteTime": {
     "end_time": "2019-02-15T21:52:50.429447Z",
     "start_time": "2019-02-15T21:52:50.420440Z"
    },
    "hidden": true
   },
   "outputs": [
    {
     "data": {
      "text/plain": [
       "{'Jones': 24,\n",
       " 'Jameson': 18,\n",
       " 'Smith': 58,\n",
       " 'Burns': 7,\n",
       " 'White': 12,\n",
       " 'Macke': 88,\n",
       " 'Perce': 4}"
      ]
     },
     "execution_count": 98,
     "metadata": {},
     "output_type": "execute_result"
    }
   ],
   "source": [
    "# Merge two dictionaries with a comprehension\n",
    "team1 = {\"Jones\": 24, \"Jameson\": 18, \"Smith\": 58, \"Burns\": 7}\n",
    "team2 = {\"White\": 12, \"Macke\": 88, \"Perce\": 4}\n",
    "newTeam = {k: v for team in (team1, team2) for k, v in team.items()}\n",
    "newTeam"
   ]
  },
  {
   "cell_type": "markdown",
   "metadata": {
    "heading_collapsed": true,
    "hidden": true
   },
   "source": [
    "### Set Comprehensions"
   ]
  },
  {
   "cell_type": "markdown",
   "metadata": {
    "hidden": true
   },
   "source": [
    "Sets in Python are used to contain unique values. So, that is each value in a given set can occur only once."
   ]
  },
  {
   "cell_type": "code",
   "execution_count": 99,
   "metadata": {
    "ExecuteTime": {
     "end_time": "2019-02-15T21:55:10.715525Z",
     "start_time": "2019-02-15T21:55:10.711524Z"
    },
    "hidden": true
   },
   "outputs": [],
   "source": [
    "# define a list of temperature data points\n",
    "ctemps = [5, 10, 12, 14, 10, 23, 41, 30, 12, 24, 12, 18, 29]"
   ]
  },
  {
   "cell_type": "code",
   "execution_count": 100,
   "metadata": {
    "ExecuteTime": {
     "end_time": "2019-02-15T21:55:11.363960Z",
     "start_time": "2019-02-15T21:55:11.359957Z"
    },
    "hidden": true
   },
   "outputs": [],
   "source": [
    "# build a set of unique Fahrenheit temperatures\n",
    "ftemps1 = [(t * 9/5) + 32 for t in ctemps]\n",
    "ftemps2 = {(t * 9/5) + 32 for t in ctemps}"
   ]
  },
  {
   "cell_type": "code",
   "execution_count": 101,
   "metadata": {
    "ExecuteTime": {
     "end_time": "2019-02-15T21:55:12.448686Z",
     "start_time": "2019-02-15T21:55:12.442684Z"
    },
    "hidden": true
   },
   "outputs": [
    {
     "data": {
      "text/plain": [
       "[41.0, 50.0, 53.6, 57.2, 50.0, 73.4, 105.8, 86.0, 53.6, 75.2, 53.6, 64.4, 84.2]"
      ]
     },
     "execution_count": 101,
     "metadata": {},
     "output_type": "execute_result"
    }
   ],
   "source": [
    "ftemps1"
   ]
  },
  {
   "cell_type": "code",
   "execution_count": 102,
   "metadata": {
    "ExecuteTime": {
     "end_time": "2019-02-15T21:55:13.263232Z",
     "start_time": "2019-02-15T21:55:13.257227Z"
    },
    "hidden": true
   },
   "outputs": [
    {
     "data": {
      "text/plain": [
       "{41.0, 50.0, 53.6, 57.2, 64.4, 73.4, 75.2, 84.2, 86.0, 105.8}"
      ]
     },
     "execution_count": 102,
     "metadata": {},
     "output_type": "execute_result"
    }
   ],
   "source": [
    "ftemps2"
   ]
  },
  {
   "cell_type": "code",
   "execution_count": 103,
   "metadata": {
    "ExecuteTime": {
     "end_time": "2019-02-15T21:55:15.905002Z",
     "start_time": "2019-02-15T21:55:15.896999Z"
    },
    "code_folding": [],
    "hidden": true
   },
   "outputs": [
    {
     "data": {
      "text/plain": [
       "{'A',\n",
       " 'B',\n",
       " 'C',\n",
       " 'D',\n",
       " 'E',\n",
       " 'F',\n",
       " 'G',\n",
       " 'H',\n",
       " 'I',\n",
       " 'J',\n",
       " 'K',\n",
       " 'L',\n",
       " 'M',\n",
       " 'N',\n",
       " 'O',\n",
       " 'P',\n",
       " 'Q',\n",
       " 'R',\n",
       " 'T',\n",
       " 'U',\n",
       " 'V',\n",
       " 'W',\n",
       " 'X',\n",
       " 'Y',\n",
       " 'Z'}"
      ]
     },
     "execution_count": 103,
     "metadata": {},
     "output_type": "execute_result"
    }
   ],
   "source": [
    "# build a set from an input source\n",
    "sTemp = \"The quick brown fox jumped over the lazy dog\"\n",
    "chars = {c.upper() for c in sTemp if not c.isspace()}\n",
    "chars"
   ]
  },
  {
   "cell_type": "code",
   "execution_count": null,
   "metadata": {
    "hidden": true
   },
   "outputs": [],
   "source": []
  }
 ],
 "metadata": {
  "kernelspec": {
   "display_name": "Python 3",
   "language": "python",
   "name": "python3"
  },
  "language_info": {
   "codemirror_mode": {
    "name": "ipython",
    "version": 3
   },
   "file_extension": ".py",
   "mimetype": "text/x-python",
   "name": "python",
   "nbconvert_exporter": "python",
   "pygments_lexer": "ipython3",
   "version": "3.7.0"
  },
  "toc": {
   "base_numbering": 1,
   "nav_menu": {},
   "number_sections": true,
   "sideBar": true,
   "skip_h1_title": false,
   "title_cell": "Table of Contents",
   "title_sidebar": "Contents",
   "toc_cell": false,
   "toc_position": {},
   "toc_section_display": true,
   "toc_window_display": false
  },
  "varInspector": {
   "cols": {
    "lenName": 16,
    "lenType": 16,
    "lenVar": 40
   },
   "kernels_config": {
    "python": {
     "delete_cmd_postfix": "",
     "delete_cmd_prefix": "del ",
     "library": "var_list.py",
     "varRefreshCmd": "print(var_dic_list())"
    },
    "r": {
     "delete_cmd_postfix": ") ",
     "delete_cmd_prefix": "rm(",
     "library": "var_list.r",
     "varRefreshCmd": "cat(var_dic_list()) "
    }
   },
   "types_to_exclude": [
    "module",
    "function",
    "builtin_function_or_method",
    "instance",
    "_Feature"
   ],
   "window_display": false
  }
 },
 "nbformat": 4,
 "nbformat_minor": 2
}
