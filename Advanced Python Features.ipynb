{
 "cells": [
  {
   "cell_type": "markdown",
   "metadata": {},
   "source": [
    "# Advanced Python Features"
   ]
  },
  {
   "cell_type": "markdown",
   "metadata": {},
   "source": [
    "## 1. Language Features"
   ]
  },
  {
   "cell_type": "markdown",
   "metadata": {},
   "source": [
    "### 1.1 Python Truth Values\n",
    "\n",
    "In Python, any object can be tested for Boolean truth value. In general, any object is considered to be equivalent to Boolean true, unless it's class defines a Bool method that returns false, or has a len method that returns a zero length. So, let's look first at the built-in objects that evaluate to false.  \n",
    "There are two constants which are defined to evaluate to false:\n",
    "\n",
    "* the false Boolean constant itself\n",
    "* and the none constant which you may have seen represented in other languages as null.\n",
    "\n",
    "Any of the built-in numeric types that evaluate to zero are also considered to be false. For example, the integer value zero, the floating-point value 0.0, and the complex value type of 0j are all false values. In addition, the decimal object, when given a value of zero, and the fractional object, when it has a numerator of zero, are also false. Next are empty sets and sequences.\n",
    "\n",
    "The empty string and empty collection objects are all considered to be false. In addition, if you call the built-in set function with no parameters, or you create a range of zero, those are also considered to be Boolean false. For custom objects, they are by default considered to be true, unless they override the Bool function and return a false value, or they override the len function and return a value of zero. \n",
    "\n",
    "There are also three basic Boolean operations, and, or, and not. The first two of these operations are short circuit operators. And it's important to remember this. In the case of and, if the first value evaluates to false, then the second operand isn't evaluated, since it won't matter what it is because anything anded with false comes out to be false. Similarly, the or operator only evaluates the second operand if the first value is false, because anything ored with true will come out to be true. \n",
    "\n",
    "When you print the Boolean value of this empty list, like `x = []; print(bool(x))`, it evaluates to false. And it's the same thing with an empty dictionary object. \n",
    "\n",
    "Notice that when I evaluate x, they both turn out to be true in JavaScript. So, how Python evaluates true and false can easily trip you up. So, it's something to keep in mind.\n"
   ]
  },
  {
   "cell_type": "markdown",
   "metadata": {},
   "source": [
    "### 1.2 String vs Bytes\n",
    "\n",
    "In Python 3, there are very important differences between the notions of strings and bytes. And it's important to understand this distinction. A string in Python 3 is a sequence of Unicode characters, while bytes are a sequence of raw eight-bit values.\n",
    "You can't just treat a string as if it were an array of ASCII eight-bit values. So, let's take a look at this in practice. I have to decode the bytes into a string. And I can do that using the built-in decode function. Now, if I didn't already know that these bytes happened to correspond to ASCII, I'd have to perform some detection logic\n",
    "to see what their encoding is. "
   ]
  },
  {
   "cell_type": "code",
   "execution_count": 1,
   "metadata": {
    "ExecuteTime": {
     "end_time": "2019-01-25T18:20:05.214287Z",
     "start_time": "2019-01-25T18:20:05.205280Z"
    }
   },
   "outputs": [],
   "source": [
    "# strings and bytes are not directly interchangeable\n",
    "# strings contain unicode, bytes are raw 8-bit values\n",
    "\n",
    "def part1_2():\n",
    "    # define some starting values\n",
    "    b = bytes([0x41, 0x42, 0x43, 0x44])\n",
    "    print(b) # print and see the variable\n",
    "    \n",
    "    s = \"This is a string\"\n",
    "    print(s) # print and see variable\n",
    "    \n",
    "    # And you can see in the output that the first is a sequence of bytes, \n",
    "    # as noted by the little b character right there. And the second \n",
    "    # print statement prints out this is a string.\n",
    "    \n",
    "    # Try combining them. This will cause an error:\n",
    "    # print(s+b)\n",
    "    \n",
    "    # Bytes and strings need to be properly encoded and decoded\n",
    "    # before you can work on them together\n",
    "    s2 = b.decode('utf-8')\n",
    "    print(s+s2)\n",
    "    \n",
    "    b2 = s.encode('utf-8')\n",
    "    print(b+b2)\n",
    "    \n",
    "    # encode the string as UTF-32\n",
    "    b3 = s.encode('utf-32')\n",
    "    print(b3)"
   ]
  },
  {
   "cell_type": "code",
   "execution_count": 2,
   "metadata": {
    "ExecuteTime": {
     "end_time": "2019-01-25T18:20:05.342372Z",
     "start_time": "2019-01-25T18:20:05.217290Z"
    }
   },
   "outputs": [
    {
     "name": "stdout",
     "output_type": "stream",
     "text": [
      "b'ABCD'\n",
      "This is a string\n",
      "This is a stringABCD\n",
      "b'ABCDThis is a string'\n",
      "b'\\xff\\xfe\\x00\\x00T\\x00\\x00\\x00h\\x00\\x00\\x00i\\x00\\x00\\x00s\\x00\\x00\\x00 \\x00\\x00\\x00i\\x00\\x00\\x00s\\x00\\x00\\x00 \\x00\\x00\\x00a\\x00\\x00\\x00 \\x00\\x00\\x00s\\x00\\x00\\x00t\\x00\\x00\\x00r\\x00\\x00\\x00i\\x00\\x00\\x00n\\x00\\x00\\x00g\\x00\\x00\\x00'\n"
     ]
    }
   ],
   "source": [
    "part1_2()"
   ]
  },
  {
   "cell_type": "markdown",
   "metadata": {},
   "source": [
    "### 1.3 Template Strings\n",
    "\n",
    "String formatting is one of the most common things that Python programmers have to do. You can see that I've got a string,\n",
    "in the function, and I'm using the regular string formatting feature to format it. And when I just go ahead and run this, it works pretty much as you'd expect. You can also use a simpler string formatting method known as template strings.\n",
    "\n",
    "So, you might be wondering why you would use this method of string formatting instead of the regular string format function.\n",
    "And there are a couple of reasons. First, if all you need to do is simple variable substitution, then the template string method is much easier to use and the code is more readable. The format function is definitely effective and has a lot of power.\n",
    "You can control the output formatting with all kinds of specifiers for spacing, and number formatting, and justification, and so on. But the template method is just about straight forward value substitution. The other reason you might want to use template strings is if the templates are being supplied from a source that you don't control or don't fully trust.\n",
    "There are some potential security issues with the format function, given how much power it has, so if you need to format strings with some extra security, then the template method might be a better way to go.\n"
   ]
  },
  {
   "cell_type": "code",
   "execution_count": 3,
   "metadata": {
    "ExecuteTime": {
     "end_time": "2019-01-25T18:20:05.429433Z",
     "start_time": "2019-01-25T18:20:05.345375Z"
    }
   },
   "outputs": [],
   "source": [
    "from string import Template\n",
    "\n",
    "\n",
    "def part1_3():\n",
    "    # Usual string formatting with format()\n",
    "    str1 = \"You're looking at {0} by {1}\".format(\"Python 3 Code\", \"Jupyter Notebook\")\n",
    "    print(str1)\n",
    "    \n",
    "    # create a template with placeholders\n",
    "    templ = Template(\"You're looking at ${title} by ${software}\")\n",
    "    \n",
    "    # use the substitute method with keyword arguments\n",
    "    str2 = templ.substitute(title=\"Python 3 Code\", software=\"Jupyter Notebook\")\n",
    "    print(str2)\n",
    "    \n",
    "    # use the substitute method with a dictionary\n",
    "    data = {\"software\": \"Jupyter Notebook\", \n",
    "            \"title\": \"Python 3 Code\"}\n",
    "    \n",
    "    str3 = templ.substitute(data)    \n",
    "    print(str3)    "
   ]
  },
  {
   "cell_type": "code",
   "execution_count": 4,
   "metadata": {
    "ExecuteTime": {
     "end_time": "2019-01-25T18:20:05.536507Z",
     "start_time": "2019-01-25T18:20:05.431432Z"
    }
   },
   "outputs": [
    {
     "name": "stdout",
     "output_type": "stream",
     "text": [
      "You're looking at Python 3 Code by Jupyter Notebook\n",
      "You're looking at Python 3 Code by Jupyter Notebook\n",
      "You're looking at Python 3 Code by Jupyter Notebook\n"
     ]
    }
   ],
   "source": [
    "part1_3()"
   ]
  },
  {
   "cell_type": "markdown",
   "metadata": {},
   "source": [
    "## 2. Built-in Functions"
   ]
  },
  {
   "cell_type": "markdown",
   "metadata": {},
   "source": [
    "### 2.1 Utilities\n",
    "\n",
    "Sometimes Python is referred to as the batteries included language, because it has a lot of functionality built into it that in other languages, you would ordinarily have to find in a third party library or code yourself.\n",
    "\n",
    "I want to emphasize here that it's almost always preferable to use the built-in functions whenever possible, so you get the benefit of leveraging the existing code in Python as well as the performance benefits of using these functions since they're implemented in the Python run time as native code."
   ]
  },
  {
   "cell_type": "code",
   "execution_count": 5,
   "metadata": {
    "ExecuteTime": {
     "end_time": "2019-01-25T18:20:05.651587Z",
     "start_time": "2019-01-25T18:20:05.543509Z"
    },
    "code_folding": []
   },
   "outputs": [],
   "source": [
    "# demonstrate built-in utility functions\n",
    "def part2_1():\n",
    "    # use any() and all() to test sequences for boolean values\n",
    "    list1 = [1, 2, 3, 0, 5, 6]\n",
    "    \n",
    "    # any will return true if any of the sequence values are true\n",
    "    print(any(list1))\n",
    "    \n",
    "    # all will return true only if all values are true\n",
    "    print(all(list1))\n",
    "    \n",
    "    # min and max will return minimum and maximum values in a sequence\n",
    "    print(\"min: \", min(list1))\n",
    "    print(\"max: \", max(list1))    \n",
    "    \n",
    "    # Use sum() to sum up all of the values in a sequence\n",
    "    print(\"sum: \", sum(list1))"
   ]
  },
  {
   "cell_type": "code",
   "execution_count": 6,
   "metadata": {
    "ExecuteTime": {
     "end_time": "2019-01-25T18:20:05.745645Z",
     "start_time": "2019-01-25T18:20:05.653580Z"
    }
   },
   "outputs": [
    {
     "name": "stdout",
     "output_type": "stream",
     "text": [
      "True\n",
      "False\n",
      "min:  0\n",
      "max:  6\n",
      "sum:  17\n"
     ]
    }
   ],
   "source": [
    "part2_1()"
   ]
  },
  {
   "cell_type": "markdown",
   "metadata": {},
   "source": [
    "### 2.2 Iterators\n",
    "\n",
    "The practice of looping over sequences of values is very common in Python, and there are several built-in methods to help out with this. The term we use to describe this looping is called iteration. And in this part we can see how to use the built-in methods to make iterating over sequences quick and easy. \n",
    "\n",
    "And the first function we'll look at is called iter. It creates an iterable object out of a sequence that you give it. So I'll create an iterator of the English days, and I'll write I = iter(days), and then once I've done that I can access the next item whenever I want using the next function.\n",
    "\n",
    "\n",
    "Now on the surface this may not seem very useful since you can already iterate over lists and such using the for statement.\n",
    "But where iter gets really useful is when you give it a function to use to generate the sequence items. "
   ]
  },
  {
   "cell_type": "code",
   "execution_count": 7,
   "metadata": {
    "ExecuteTime": {
     "end_time": "2019-01-25T18:20:05.815689Z",
     "start_time": "2019-01-25T18:20:05.756651Z"
    }
   },
   "outputs": [],
   "source": [
    "# use iterator functions like enumerate, zip, iter, next\n",
    "def part2_2():\n",
    "    # define a list of days in English and French\n",
    "    days = [\"Sun\", \"Mon\", \"Tue\", \"Wed\", \"Thu\", \"Fri\", \"Sat\"]\n",
    "    daysFr = [\"Dim\", \"Lun\", \"Mar\", \"Mer\", \"Jeu\", \"Ven\", \"Sam\"]\n",
    "\n",
    "    # use iter to create an iterator over a collection\n",
    "    i = iter(days)\n",
    "    print(next(i))  # Sun\n",
    "    print(next(i))  # Mon\n",
    "    print(next(i))  # Tue\n",
    "\n",
    "    print('\\nFile part....')\n",
    "    # iterate using a function and a sentinel\n",
    "    with open(\"testfile.txt\", \"r\") as fp:\n",
    "        for line in iter(fp.readline, ''):\n",
    "            print(line)\n",
    "\n",
    "    print('\\nRegular iteration ....')\n",
    "    # use regular iteration over the days\n",
    "    for m in range(len(days)):\n",
    "        print(m+1, days[m])\n",
    "\n",
    "    print('\\nEnumerate part....')\n",
    "    # using enumerate reduces code and provides a counter\n",
    "    for i, m in enumerate(days, start=1):\n",
    "        print(i, m)\n",
    "\n",
    "    print('\\nZip part....')\n",
    "    # use zip to combine sequences\n",
    "    for m in zip(days, daysFr):\n",
    "        print(m)\n",
    "\n",
    "    print('\\nZip and Enumerate part....')    \n",
    "    for i, m in enumerate(zip(days, daysFr), start=1):\n",
    "        print(i, m[0], \"=\", m[1], \"in French\")"
   ]
  },
  {
   "cell_type": "code",
   "execution_count": 8,
   "metadata": {
    "ExecuteTime": {
     "end_time": "2019-01-25T18:20:05.941777Z",
     "start_time": "2019-01-25T18:20:05.818691Z"
    },
    "scrolled": true
   },
   "outputs": [
    {
     "name": "stdout",
     "output_type": "stream",
     "text": [
      "Sun\n",
      "Mon\n",
      "Tue\n",
      "\n",
      "File part....\n",
      "This is line 1\n",
      "\n",
      "This is line 2\n",
      "\n",
      "This is line 3\n",
      "\n",
      "This is line 4\n",
      "\n",
      "This is line 5\n",
      "\n",
      "This is line 6\n",
      "\n",
      "\n",
      "Regular iteration ....\n",
      "1 Sun\n",
      "2 Mon\n",
      "3 Tue\n",
      "4 Wed\n",
      "5 Thu\n",
      "6 Fri\n",
      "7 Sat\n",
      "\n",
      "Enumerate part....\n",
      "1 Sun\n",
      "2 Mon\n",
      "3 Tue\n",
      "4 Wed\n",
      "5 Thu\n",
      "6 Fri\n",
      "7 Sat\n",
      "\n",
      "Zip part....\n",
      "('Sun', 'Dim')\n",
      "('Mon', 'Lun')\n",
      "('Tue', 'Mar')\n",
      "('Wed', 'Mer')\n",
      "('Thu', 'Jeu')\n",
      "('Fri', 'Ven')\n",
      "('Sat', 'Sam')\n",
      "\n",
      "Zip and Enumerate part....\n",
      "1 Sun = Dim in French\n",
      "2 Mon = Lun in French\n",
      "3 Tue = Mar in French\n",
      "4 Wed = Mer in French\n",
      "5 Thu = Jeu in French\n",
      "6 Fri = Ven in French\n",
      "7 Sat = Sam in French\n"
     ]
    }
   ],
   "source": [
    "part2_2()"
   ]
  },
  {
   "cell_type": "markdown",
   "metadata": {},
   "source": [
    "### 2.3 Transformers\n",
    "\n",
    "Python has become pretty popular among data scientists and other developers who need to work with large amounts of data and that's not an accident. The Python standard library provides built-in functions for transforming sequences of data. So in this part, we'll take a look at some of those functions.\n",
    "\n",
    "I'll try out the filter function first. The filter functions does essentially what its name implies. It creates an iterator that filters out values from a given sequence. You pass it a function to perform a Boolean test and if that test returns false,\n",
    "then that item is removed from the resulting sequence.\n",
    "\n",
    "The map function creates an iterator that takes one or more sequences of values and produces a new sequence by applying a given function to each value in the original sequences. So I'll use the same sequence of numbers from earlier to produce a new list of numbers each of which are going to be the squared value of the original. So, again what I need to do is write the expression to call the map function."
   ]
  },
  {
   "cell_type": "code",
   "execution_count": 9,
   "metadata": {
    "ExecuteTime": {
     "end_time": "2019-01-25T18:20:06.025838Z",
     "start_time": "2019-01-25T18:20:05.946778Z"
    }
   },
   "outputs": [],
   "source": [
    "# use transform functions like sorted, filter, map\n",
    "\n",
    "def filterFunc(x):\n",
    "    if x % 2 == 0:\n",
    "        return False\n",
    "    return True\n",
    "\n",
    "\n",
    "def filterFunc2(x):\n",
    "    if x.isupper():\n",
    "        return False\n",
    "    return True\n",
    "\n",
    "\n",
    "def squareFunc(x):\n",
    "    return x**2\n",
    "\n",
    "\n",
    "def toGrade(x):\n",
    "    if (x >= 90):\n",
    "        return \"A\"\n",
    "    elif (x >= 80 and x < 90):\n",
    "        return \"B\"\n",
    "    elif (x >= 70 and x < 80):\n",
    "        return \"C\"\n",
    "    elif (x >= 65 and x < 70):\n",
    "        return \"D\"\n",
    "    return \"F\"\n",
    "\n",
    "\n",
    "def part2_3():\n",
    "    # define some sample sequences to operate on\n",
    "    nums = (1, 8, 4, 5, 13, 26, 381, 410, 58, 47)\n",
    "    chars = \"abcDeFGHiJklmnoP\"\n",
    "    grades = (81, 89, 94, 78, 61, 66, 99, 74)\n",
    "\n",
    "    # use filter to remove items from a list\n",
    "    odds = list(filter(filterFunc, nums))\n",
    "    print(odds)\n",
    "\n",
    "    # use filter on non-numeric sequence\n",
    "    lowers = list(filter(filterFunc2, chars))\n",
    "    print(lowers)\n",
    "\n",
    "    # use map to create a new sequence of values\n",
    "    squares = list(map(squareFunc, nums))\n",
    "    print(squares)\n",
    "\n",
    "    # use sorted and map to change numbers to grades\n",
    "    grades = sorted(grades)\n",
    "    letters = list(map(toGrade, grades))\n",
    "    print(letters)\n"
   ]
  },
  {
   "cell_type": "code",
   "execution_count": 10,
   "metadata": {
    "ExecuteTime": {
     "end_time": "2019-01-25T18:20:06.115891Z",
     "start_time": "2019-01-25T18:20:06.027831Z"
    }
   },
   "outputs": [
    {
     "name": "stdout",
     "output_type": "stream",
     "text": [
      "[1, 5, 13, 381, 47]\n",
      "['a', 'b', 'c', 'e', 'i', 'k', 'l', 'm', 'n', 'o']\n",
      "[1, 64, 16, 25, 169, 676, 145161, 168100, 3364, 2209]\n",
      "['F', 'D', 'C', 'C', 'B', 'B', 'A', 'A']\n"
     ]
    }
   ],
   "source": [
    "part2_3()"
   ]
  },
  {
   "cell_type": "markdown",
   "metadata": {},
   "source": [
    "### 2.4 Itertools\n",
    "\n",
    "Since iterating over data is such an important part of Python, I'm going to include an example of an important module here which is called Itertools. Now this is not technically a set of built in language functions, but they are part of the standard library that comes with Python, and they are incredibly useful for creating iterators to handle a variety of common scenarios.\n",
    "And to use them, you just need to import the Itertools module.\n",
    "\n",
    "In this module, and I'll start by demonstrating a couple of infinite iterators, and these are iterators that will generate values for as long as you need them and they just never end. So the first is called cycle, and it does what its name implies,\n",
    "it cycles over a set of values.\n",
    "\n",
    "The next infinite iterator is called a count iterator. Count iterator does pretty much what you'd expect, it creates a counter. \n",
    "Another interesting iterator is the accumulate function which will aggregate values together. It defaults to addition, but I can change that.\n",
    "\n",
    "Let's look at the chain function. So the chain function will take multiple sequences and chain them together to act as one.\n",
    "\n",
    "\n",
    "And I'll finish up with a couple of filtering examples. The Itertools modules provides two similar functions called dropwhile and takewhile. So these iterators will provide values until a trigger value is reached, at which point they'll stop. So both of these functions take a predicate function to perform the value test. Dropwhile will drop values from the sequence while the test function returns true, and then it will start returning every value after that.\n",
    "\n",
    "And then takewhile is the opposite. It will return values from the sequence while the predicate function returns true, and then it will stop giving you values."
   ]
  },
  {
   "cell_type": "code",
   "execution_count": 11,
   "metadata": {
    "ExecuteTime": {
     "end_time": "2019-01-25T18:20:06.216958Z",
     "start_time": "2019-01-25T18:20:06.118893Z"
    }
   },
   "outputs": [],
   "source": [
    "# advanced iteration functions in the itertools package\n",
    "\n",
    "import itertools\n",
    "\n",
    "\n",
    "def testFunction(x):\n",
    "    return x < 40\n",
    "\n",
    "\n",
    "def part2_4():\n",
    "    # cycle iterator can be used to cycle over a collection\n",
    "    seq1 = [\"Joe\", \"John\", \"Mike\"]\n",
    "    cycle1 = itertools.cycle(seq1)\n",
    "    print(next(cycle1))\n",
    "    print(next(cycle1))\n",
    "    print(next(cycle1))\n",
    "    print(next(cycle1))\n",
    "\n",
    "    # use count to create a simple counter\n",
    "    count1 = itertools.count(100, 10)\n",
    "    print(next(count1))\n",
    "    print(next(count1))\n",
    "    print(next(count1))\n",
    "\n",
    "    # accumulate creates an iterator that accumulates values\n",
    "    vals = [10,20,30,40,50,40,30]\n",
    "    acc = itertools.accumulate(vals, max)\n",
    "    print(list(acc))\n",
    "        \n",
    "    # use chain to connect sequences together\n",
    "    x = itertools.chain(\"ABCD\", \"1234\")\n",
    "    print(list(x))\n",
    "    \n",
    "    # dropwhile and takewhile will return values until\n",
    "    # a certain condition is met that stops them\n",
    "    print(list(itertools.dropwhile(testFunction, vals)))\n",
    "    print(list(itertools.takewhile(testFunction, vals)))"
   ]
  },
  {
   "cell_type": "code",
   "execution_count": 12,
   "metadata": {
    "ExecuteTime": {
     "end_time": "2019-01-25T18:20:06.314025Z",
     "start_time": "2019-01-25T18:20:06.218958Z"
    }
   },
   "outputs": [
    {
     "name": "stdout",
     "output_type": "stream",
     "text": [
      "Joe\n",
      "John\n",
      "Mike\n",
      "Joe\n",
      "100\n",
      "110\n",
      "120\n",
      "[10, 20, 30, 40, 50, 50, 50]\n",
      "['A', 'B', 'C', 'D', '1', '2', '3', '4']\n",
      "[40, 50, 40, 30]\n",
      "[10, 20, 30]\n"
     ]
    }
   ],
   "source": [
    "part2_4()"
   ]
  },
  {
   "cell_type": "markdown",
   "metadata": {},
   "source": [
    "## 3. Advanced Functions"
   ]
  },
  {
   "cell_type": "markdown",
   "metadata": {},
   "source": [
    "### 3.1 Variable Arguments\n",
    "\n",
    "Just like some other programming languages, Python functions support variable argument lists and this makes it possible to build functions that have a high degree of flexibility by accepting different numbers of parameters. A good example of this might be an addition function that adds up the parameters passed to it. Now it would be pretty inconvenient to require cause of this function to have to conform to putting all the numbers into a list. So defining the function to accept a variable list\n",
    "of parameters would be a better way to go. To do this in Python, you define the function argument using an asterisk character in front of the parameter that you want to make variable. This parameter has to come after all the other positional parameters that the function defines.\n",
    "\n",
    "For example, if we built a logging function that logged messages along with parameter values, we would maybe first define the parameters for the message type and the message and then specify the variable argument list. You can call the parameter whatever you want, but I suggest that you stick with the args name convention so that other developers recognize what it is that you're doing and if anyone else has to read your code, they can understand it pretty quickly.\n",
    "\n",
    "Now there is a potential drawback to using variable argument lists. And that is that if you decide later to change the function signature to add more positional parameters, then all of the callers of your function will also have to change. So, for example, if I change the definition of addition to take an argument named base, I have to change all the places where this function is used. So, in general, variable arguments are useful when the number of parameters that your function expects is relatively small. It's a really great way to add flexibility to your functions, but you do have to be careful and think ahead about how your code will be used.\n"
   ]
  },
  {
   "cell_type": "code",
   "execution_count": 13,
   "metadata": {
    "ExecuteTime": {
     "end_time": "2019-01-25T18:20:06.477133Z",
     "start_time": "2019-01-25T18:20:06.325032Z"
    }
   },
   "outputs": [],
   "source": [
    "# Demonstrate the use of variable argument lists\n",
    "\n",
    "\n",
    "# define a function that takes variable arguments\n",
    "def addition(base, *args):\n",
    "    result = 0\n",
    "    for arg in args:\n",
    "        result += arg\n",
    "\n",
    "    return result\n",
    "\n",
    "\n",
    "def part3_1():\n",
    "    # pass different arguments\n",
    "    print(addition(5, 10, 15, 20))\n",
    "    print(addition(1, 2, 3))\n",
    "\n",
    "    # pass an existing list\n",
    "    myNums = [5, 10, 15, 20]\n",
    "    print(addition(*myNums))"
   ]
  },
  {
   "cell_type": "code",
   "execution_count": 14,
   "metadata": {
    "ExecuteTime": {
     "end_time": "2019-01-25T18:20:06.626231Z",
     "start_time": "2019-01-25T18:20:06.489142Z"
    }
   },
   "outputs": [
    {
     "name": "stdout",
     "output_type": "stream",
     "text": [
      "45\n",
      "5\n",
      "45\n"
     ]
    }
   ],
   "source": [
    "part3_1()"
   ]
  },
  {
   "cell_type": "markdown",
   "metadata": {},
   "source": [
    "### 3.2 Lambda Functions\n",
    "\n",
    "If you've done any programming in other languages, such as JavaScript, or C#, or Java, you've probably seen or worked with anonymous functions. Python also supports these, and they are referred to as lambda functions. Lambda functions can be passed as arguments to other functions to perform some processing work, much like a callback function in a language like JavaScript.\n",
    "Typically, you see these used in situations where defining a whole separate function would needlessly increase the complexity of the code and reduce readability.\n",
    "\n",
    "Lambdas are defined by using the keyword lambda followed by any arguments that the lambda function takes, and then followed by an expression."
   ]
  },
  {
   "cell_type": "code",
   "execution_count": 15,
   "metadata": {
    "ExecuteTime": {
     "end_time": "2019-01-25T18:20:06.728301Z",
     "start_time": "2019-01-25T18:20:06.630235Z"
    }
   },
   "outputs": [],
   "source": [
    "# Use lambdas as in-place functions\n",
    "\n",
    "\n",
    "def CelsisusToFahrenheit(temp):\n",
    "    return (temp * 9/5) + 32\n",
    "\n",
    "\n",
    "def FahrenheitToCelsisus(temp):\n",
    "    return (temp-32) * 5/9\n",
    "\n",
    "\n",
    "def part3_2():\n",
    "    ctemps = [0, 12, 34, 100]\n",
    "    ftemps = [32, 65, 100, 212]\n",
    "\n",
    "    # Use regular functions to convert temps\n",
    "    print(list(map(FahrenheitToCelsisus, ftemps)))\n",
    "    print(list(map(CelsisusToFahrenheit, ctemps)))\n",
    "\n",
    "    # Use lambdas to accomplish the same thing\n",
    "    print(list(map(lambda t: (t-32) * 5/9, ftemps)))\n",
    "    print(list(map(lambda t: (t * 9/5) + 32, ctemps)))\n"
   ]
  },
  {
   "cell_type": "code",
   "execution_count": 16,
   "metadata": {
    "ExecuteTime": {
     "end_time": "2019-01-25T18:20:06.814357Z",
     "start_time": "2019-01-25T18:20:06.732303Z"
    },
    "scrolled": true
   },
   "outputs": [
    {
     "name": "stdout",
     "output_type": "stream",
     "text": [
      "[0.0, 18.333333333333332, 37.77777777777778, 100.0]\n",
      "[32.0, 53.6, 93.2, 212.0]\n",
      "[0.0, 18.333333333333332, 37.77777777777778, 100.0]\n",
      "[32.0, 53.6, 93.2, 212.0]\n"
     ]
    }
   ],
   "source": [
    "part3_2()"
   ]
  },
  {
   "cell_type": "markdown",
   "metadata": {},
   "source": [
    "### 3.3 Keywords Arguments\n",
    "\n",
    "Another similarity that Python has with some other programming languages is that it provides away for specifying function parameters using keywords. So for example, you can define a function that takes positional arguments along with keyword arguments that take optional values like this. Then, when you want to call the function, you can specify values by position or by keyword. In some cases however, you may want to require the callers of your particular function specify arguments using keywords only in order to provide better readability of the code. So for example, suppose we have a function that performs a critical operation. And it provides an option to suppress exceptions. So one way to write this function would be to specify a regular argument and have it default to a certain value. Now the problem with this approach is that the function can be invoked just by passing a regular positional argument. And since this parameter has a significant effect on how the program runs, it might be better to require that the parameter be specified by keyword. This way, the function caller is aware of the significance of the parameter and others who read the code can easily see and understand what's happening.\n",
    "\n",
    "So to accomplish this in Python 3, you can separate your positional arguments with a single asterisk character followed by parameters that are keyword only."
   ]
  },
  {
   "cell_type": "code",
   "execution_count": 17,
   "metadata": {
    "ExecuteTime": {
     "end_time": "2019-01-26T15:06:43.305593Z",
     "start_time": "2019-01-26T15:06:43.300591Z"
    }
   },
   "outputs": [],
   "source": [
    "# Demonstrate the use of keyword-only arguments\n",
    "# use keyword-only arguments to help ensure code clarity\n",
    "def myFunction(arg1, arg2, *, suppressExceptions=False):\n",
    "    print(arg1, arg2, suppressExceptions)\n",
    "\n",
    "\n",
    "def part3_3():\n",
    "    # try to call the function without the keyword\n",
    "    # myFunction(1, 2, True)\n",
    "    myFunction(1, 2, suppressExceptions=True)"
   ]
  },
  {
   "cell_type": "code",
   "execution_count": 18,
   "metadata": {
    "ExecuteTime": {
     "end_time": "2019-01-26T15:06:49.958045Z",
     "start_time": "2019-01-26T15:06:49.954041Z"
    }
   },
   "outputs": [
    {
     "name": "stdout",
     "output_type": "stream",
     "text": [
      "1 2 True\n"
     ]
    }
   ],
   "source": [
    "part3_3()"
   ]
  },
  {
   "cell_type": "markdown",
   "metadata": {},
   "source": [
    "## 4. Collections"
   ]
  },
  {
   "cell_type": "markdown",
   "metadata": {},
   "source": [
    "### 4.1 Named Tuple\n",
    "\n",
    "Now, suppose I wanted to define a data structure to represent a geometric point on a typical x and y axis. Now, I could easily do this by defining a regular tuple with two elements, the x and y values of the point. Now, to access these values I can use\n",
    "positional argument indexes to get each one. Now, this may seem all fine and good, but as my program becomes more complex this kind of code easily looses its meaning and becomes hard to read. Especially, if I don't keep the names of all the point variables clear and meaningful. And maybe you can do it on your own, but your colleagues might not do it, so the code could get pretty hard to read after awhile. Now, I could just define a Python class and give it member properties for x and y and then write getattr and setattr functions and so on, but that seems a little much for a relatively simple data structure. \n",
    "\n",
    "Namedtuples help to solve this problem by assigning meaning to each of the values along with the tuple itself. And they also provide some helpful functions for working with them.\n",
    "\n",
    "So, namedtuples can really help make your code more readable when what you need is a lightweight immutable class. Now, keep in mind though, they do have limitations, such as you can't use default argument values and such, so if the data that you're working with has a large number of optional properties it might be better to just go with a regular class. But namedtuples have their place and they can really make your code more maintainable and easier to read.\n"
   ]
  },
  {
   "cell_type": "code",
   "execution_count": 19,
   "metadata": {
    "ExecuteTime": {
     "end_time": "2019-01-26T16:24:46.227815Z",
     "start_time": "2019-01-26T16:24:46.221811Z"
    }
   },
   "outputs": [],
   "source": [
    "# Demonstrate the usage of namdtuple objects\n",
    "\n",
    "from collections import namedtuple\n",
    "\n",
    "\n",
    "def part4_1():\n",
    "    # create a Point namedtuple\n",
    "    Point = namedtuple(\"Point\", \"x y\")\n",
    "\n",
    "    p1 = Point(10, 20)\n",
    "    p2 = Point(30, 40)\n",
    "\n",
    "    print(p1, p2)\n",
    "    print(p1.x, p1.y)\n",
    "\n",
    "    # use _replace to create a new instance\n",
    "    p1 = p1._replace(x=100)\n",
    "    print(p1) "
   ]
  },
  {
   "cell_type": "code",
   "execution_count": 20,
   "metadata": {
    "ExecuteTime": {
     "end_time": "2019-01-26T16:24:50.937076Z",
     "start_time": "2019-01-26T16:24:50.933076Z"
    }
   },
   "outputs": [
    {
     "name": "stdout",
     "output_type": "stream",
     "text": [
      "Point(x=10, y=20) Point(x=30, y=40)\n",
      "10 20\n",
      "Point(x=100, y=20)\n"
     ]
    }
   ],
   "source": [
    "part4_1()"
   ]
  },
  {
   "cell_type": "markdown",
   "metadata": {},
   "source": [
    "### 4.2 Default Dictionary\n",
    "\n",
    "The collections module provides two interesting dictionary subclasses to help out with common scenarios where a regular dictionary would need unnecessary code. So, one such example is the default dict, which we'll examine in this example. It's a fairly common scenario to use dictionaries to keep track of data, such as the result of counting operations.\n",
    "\n",
    "So, if you have a situation where the fact that a key is missing from the dictionary is an important indicator, then default dict is probably not the right collection to use. In other situations however, it can make your code simpler and easier to read and test.\n"
   ]
  },
  {
   "cell_type": "code",
   "execution_count": 21,
   "metadata": {
    "ExecuteTime": {
     "end_time": "2019-01-26T16:28:28.908406Z",
     "start_time": "2019-01-26T16:28:28.901400Z"
    }
   },
   "outputs": [],
   "source": [
    "# Demonstrate the usage of defaultdict objects\n",
    "\n",
    "from collections import defaultdict\n",
    "\n",
    "\n",
    "def part4_2():\n",
    "    # define a list of items that we want to count\n",
    "    fruits = ['apple', 'pear', 'orange', 'banana',\n",
    "              'apple', 'grape', 'banana', 'banana']\n",
    "\n",
    "    # use a dictionary to count each element\n",
    "    fruitCounter = defaultdict(int)\n",
    "\n",
    "    # Count the elements in the list\n",
    "    for fruit in fruits:\n",
    "        fruitCounter[fruit] += 1\n",
    "\n",
    "    # print the result\n",
    "    for (k, v) in fruitCounter.items():\n",
    "        print(k + \": \" + str(v))"
   ]
  },
  {
   "cell_type": "code",
   "execution_count": 22,
   "metadata": {
    "ExecuteTime": {
     "end_time": "2019-01-26T16:28:33.682642Z",
     "start_time": "2019-01-26T16:28:33.679642Z"
    }
   },
   "outputs": [
    {
     "name": "stdout",
     "output_type": "stream",
     "text": [
      "apple: 2\n",
      "pear: 1\n",
      "orange: 1\n",
      "banana: 3\n",
      "grape: 1\n"
     ]
    }
   ],
   "source": [
    "part4_2()"
   ]
  },
  {
   "cell_type": "markdown",
   "metadata": {},
   "source": [
    "### 4.3 Counters\n",
    "\n",
    "Collections modules supplies a counter class which is a dictionary subclass for counting hashable objects. Now you might be saying wait a minute, we saw how to do this earlier with the default dict class. And that's true, but counters have some nice additional features for working with numbers of items.\n",
    "\n",
    "So if you need a class to help keep track of a number of different items, along with a set of operations for working on the data or multiple sets of data. The counter class just might fit the bill for you.\n"
   ]
  },
  {
   "cell_type": "code",
   "execution_count": 23,
   "metadata": {
    "ExecuteTime": {
     "end_time": "2019-01-26T16:31:51.163251Z",
     "start_time": "2019-01-26T16:31:51.157247Z"
    }
   },
   "outputs": [],
   "source": [
    "# Demonstrate the usage of Counter objects\n",
    "\n",
    "from collections import Counter\n",
    "\n",
    "\n",
    "def part4_3():\n",
    "    # list of students in class 1\n",
    "    class1 = [\"Bob\", \"James\", \"Chad\", \"Darcy\", \"Penny\", \"Hannah\"\n",
    "              \"Kevin\", \"James\", \"Melanie\", \"Becky\", \"Steve\", \"Frank\"]\n",
    "\n",
    "    # list of students in class 2\n",
    "    class2 = [\"Bill\", \"Barry\", \"Cindy\", \"Debbie\", \"Frank\",\n",
    "              \"Gabby\", \"Kelly\", \"James\", \"Joe\", \"Sam\", \"Tara\", \"Ziggy\"]\n",
    "\n",
    "    # Create a Counter for class1 and class2\n",
    "    c1 = Counter(class1)\n",
    "    c2 = Counter(class2)\n",
    "\n",
    "    # How many students in class 1 named James?\n",
    "    print(c1[\"James\"])\n",
    "\n",
    "    # How many students are in class 1?\n",
    "    print(sum(c1.values()), \"students in class 1\")\n",
    "\n",
    "    # Combine the two classes\n",
    "    c1.update(class2)\n",
    "    print(sum(c1.values()), \"students in class 1 and 2\")\n",
    "\n",
    "    # What's the most common name in the two classes?\n",
    "    print(c1.most_common(3))\n",
    "\n",
    "    # Separate the classes again\n",
    "    c1.subtract(class2)\n",
    "    print(c1.most_common(1))\n",
    "\n",
    "    # What's common between the two classes?\n",
    "    print(c1 & c2)"
   ]
  },
  {
   "cell_type": "code",
   "execution_count": 24,
   "metadata": {
    "ExecuteTime": {
     "end_time": "2019-01-26T16:31:58.184050Z",
     "start_time": "2019-01-26T16:31:58.180049Z"
    }
   },
   "outputs": [
    {
     "name": "stdout",
     "output_type": "stream",
     "text": [
      "2\n",
      "11 students in class 1\n",
      "23 students in class 1 and 2\n",
      "[('James', 3), ('Frank', 2), ('Bob', 1)]\n",
      "[('James', 2)]\n",
      "Counter({'James': 1, 'Frank': 1})\n"
     ]
    }
   ],
   "source": [
    "part4_3()"
   ]
  },
  {
   "cell_type": "markdown",
   "metadata": {},
   "source": [
    "### 4.4 Ordered Dictionary\n",
    "\n",
    "One of the main downsides of the regular dictionary object in Python is that it doesn't keep track of any order among the items. The OrderedDict is a dictionary object that remembers the order in which items are inserted. This is a nice feature because it means you can substitute an OrderedDict anywhere you would use a regular dictionary.\n"
   ]
  },
  {
   "cell_type": "code",
   "execution_count": 25,
   "metadata": {
    "ExecuteTime": {
     "end_time": "2019-01-26T16:35:16.013488Z",
     "start_time": "2019-01-26T16:35:16.004484Z"
    }
   },
   "outputs": [],
   "source": [
    "# Demonstrate the usage of OrderedDict objects\n",
    "\n",
    "from collections import OrderedDict\n",
    "\n",
    "\n",
    "def part4_4():\n",
    "    # list of sport teams with wins and losses\n",
    "    sportTeams = [(\"Royals\", (18, 12)), (\"Rockets\", (24, 6)), \n",
    "                (\"Cardinals\", (20, 10)), (\"Dragons\", (22, 8)),\n",
    "                (\"Kings\", (15, 15)), (\"Chargers\", (20, 10)), \n",
    "                (\"Jets\", (16, 14)), (\"Warriors\", (25, 5))]\n",
    "\n",
    "    # sort the teams by number of wins\n",
    "    sortedTeams = sorted(sportTeams, key=lambda t: t[1][0], reverse=True)\n",
    "\n",
    "    # create an ordered dictionary of the teams\n",
    "    teams = OrderedDict(sortedTeams)\n",
    "    print(teams)\n",
    "\n",
    "    # Use popitem to remove the top item\n",
    "    tm, wl = teams.popitem(False)\n",
    "    print(\"Top team: \", tm, wl)\n",
    "\n",
    "    # What are next the top 4 teams?\n",
    "    for i, team in enumerate(teams, start=1):\n",
    "        print(i, team)\n",
    "        if i == 4:\n",
    "            break\n",
    "\n",
    "    # test for equality\n",
    "    a = OrderedDict({\"a\": 1, \"b\": 2, \"c\": 3})\n",
    "    b = OrderedDict({\"a\": 1, \"c\": 3, \"b\": 2})\n",
    "    print(\"Equality test: \", a == b)"
   ]
  },
  {
   "cell_type": "code",
   "execution_count": 26,
   "metadata": {
    "ExecuteTime": {
     "end_time": "2019-01-26T16:35:26.875901Z",
     "start_time": "2019-01-26T16:35:26.870899Z"
    }
   },
   "outputs": [
    {
     "name": "stdout",
     "output_type": "stream",
     "text": [
      "OrderedDict([('Warriors', (25, 5)), ('Rockets', (24, 6)), ('Dragons', (22, 8)), ('Cardinals', (20, 10)), ('Chargers', (20, 10)), ('Royals', (18, 12)), ('Jets', (16, 14)), ('Kings', (15, 15))])\n",
      "Top team:  Warriors (25, 5)\n",
      "1 Rockets\n",
      "2 Dragons\n",
      "3 Cardinals\n",
      "4 Chargers\n",
      "Equality test:  False\n"
     ]
    }
   ],
   "source": [
    "part4_4()"
   ]
  },
  {
   "cell_type": "markdown",
   "metadata": {},
   "source": [
    "### 4.5 Deque Objects\n",
    "\n",
    "It's sort of a hybrid object between a stack and a queue. In fact, the name itself basically means double-ended queue. You can use them to append or pop data from either side, and they are designed to be memory-efficient when accessing them from either end. Deques can be initialized to be either empty or get their initial data from an existing, iterable object, and they can also be specified to have a maximum length. To add data to a deque, you use either the append or append left methods to add items onto the end or the beginning, and similarly, items can be removed using either pop or pop left. Deques also support a rotate function, which can operate in either direction. The rotate function takes a parameter indicating how many items to rotate and defaults to one, so positive numbers will rotate to the right, while negative numbers will rotate to the left,\n",
    "\n",
    "So each time you rotate a deque, the value that's on the end goes to the front, and that happens for each rotation that you do.\n",
    "The deque object is really pretty versatile, so if you have a use case where you need to be able to operate on both ends of a list and perform operations such as this rotation, you can imagine that a restaurant sign-up list might have such a need, this might be just what you need."
   ]
  },
  {
   "cell_type": "code",
   "execution_count": 27,
   "metadata": {
    "ExecuteTime": {
     "end_time": "2019-01-26T16:38:27.622762Z",
     "start_time": "2019-01-26T16:38:27.616760Z"
    }
   },
   "outputs": [],
   "source": [
    "# deque objects are like double-ended queues\n",
    "\n",
    "from collections import deque\n",
    "import string\n",
    "\n",
    "\n",
    "def part4_5():\n",
    "    # initialize a deque with lowercase letters\n",
    "    d = deque(string.ascii_lowercase)\n",
    "\n",
    "    # deques support the len() function\n",
    "    print(\"Item count: \" + str(len(d)))\n",
    "\n",
    "    # deques can be iterated over\n",
    "    for elem in d:\n",
    "        print(elem.upper(), end=\",\")\n",
    "\n",
    "    # manipulate items from either end\n",
    "    d.pop()\n",
    "    d.popleft()\n",
    "    d.append(2)\n",
    "    d.appendleft(1)\n",
    "    print(d)\n",
    "\n",
    "    # rotate the deque\n",
    "    print(d)\n",
    "    d.rotate(1)\n",
    "    print(d)"
   ]
  },
  {
   "cell_type": "code",
   "execution_count": 28,
   "metadata": {
    "ExecuteTime": {
     "end_time": "2019-01-26T16:38:31.711497Z",
     "start_time": "2019-01-26T16:38:31.706493Z"
    }
   },
   "outputs": [
    {
     "name": "stdout",
     "output_type": "stream",
     "text": [
      "Item count: 26\n",
      "A,B,C,D,E,F,G,H,I,J,K,L,M,N,O,P,Q,R,S,T,U,V,W,X,Y,Z,deque([1, 'b', 'c', 'd', 'e', 'f', 'g', 'h', 'i', 'j', 'k', 'l', 'm', 'n', 'o', 'p', 'q', 'r', 's', 't', 'u', 'v', 'w', 'x', 'y', 2])\n",
      "deque([1, 'b', 'c', 'd', 'e', 'f', 'g', 'h', 'i', 'j', 'k', 'l', 'm', 'n', 'o', 'p', 'q', 'r', 's', 't', 'u', 'v', 'w', 'x', 'y', 2])\n",
      "deque([2, 1, 'b', 'c', 'd', 'e', 'f', 'g', 'h', 'i', 'j', 'k', 'l', 'm', 'n', 'o', 'p', 'q', 'r', 's', 't', 'u', 'v', 'w', 'x', 'y'])\n"
     ]
    }
   ],
   "source": [
    "part4_5()"
   ]
  },
  {
   "cell_type": "markdown",
   "metadata": {},
   "source": [
    "## 5. Advanced Classes and Objects"
   ]
  },
  {
   "cell_type": "markdown",
   "metadata": {},
   "source": [
    "### 5.1 Enumerations\n",
    "\n",
    "Python supports enumerations just like other popular programming languages and they're useful in a variety of scenarios. Usually, they are used to assign easy-to-read names to constant values in a program, which increases the readability of your code. They can also be used as hash values, and you can iterate over them like you would other iterables in Python. Enumerations are defined using the class syntax."
   ]
  },
  {
   "cell_type": "code",
   "execution_count": 29,
   "metadata": {
    "ExecuteTime": {
     "end_time": "2019-01-26T17:29:18.932265Z",
     "start_time": "2019-01-26T17:29:18.924260Z"
    }
   },
   "outputs": [],
   "source": [
    "# define enumerations using the Enum base class\n",
    "\n",
    "from enum import Enum, unique, auto\n",
    "\n",
    "\n",
    "@unique\n",
    "class Fruit(Enum):\n",
    "    APPLE = 1\n",
    "    BANANA = 2\n",
    "    ORANGE = 3\n",
    "    TOMATO = 4\n",
    "    PEAR = auto()\n",
    "\n",
    "\n",
    "def part5_1():\n",
    "    # enums have human-readable values and types\n",
    "    print(Fruit.APPLE)\n",
    "    print(type(Fruit.APPLE))\n",
    "    print(repr(Fruit.APPLE))\n",
    "\n",
    "    # enums have name and value properties\n",
    "    print(Fruit.APPLE.name, Fruit.APPLE.value)\n",
    "\n",
    "    # print the auto-generated value\n",
    "    print(Fruit.PEAR.value)\n",
    "\n",
    "    # enums are hashable - can be used as keys\n",
    "    myFruits = {}\n",
    "    myFruits[Fruit.BANANA] = \"Come Mrs. Clarke\"\n",
    "    print(myFruits[Fruit.BANANA])"
   ]
  },
  {
   "cell_type": "code",
   "execution_count": 30,
   "metadata": {
    "ExecuteTime": {
     "end_time": "2019-01-26T17:29:24.232927Z",
     "start_time": "2019-01-26T17:29:24.228927Z"
    }
   },
   "outputs": [
    {
     "name": "stdout",
     "output_type": "stream",
     "text": [
      "Fruit.APPLE\n",
      "<enum 'Fruit'>\n",
      "<Fruit.APPLE: 1>\n",
      "APPLE 1\n",
      "5\n",
      "Come Mrs. Clarke\n"
     ]
    }
   ],
   "source": [
    "part5_1()"
   ]
  },
  {
   "cell_type": "markdown",
   "metadata": {},
   "source": [
    "### 5.2 Class String\n",
    "\n",
    "Another fairly common operation in Python is converting different kinds of values into string representations. So consider, for example, what happens when you use the string formatting function. Each one of the parameters, passed to the format function, is converted into a string and then substituted into the output string at that particular place holder. Now, for some data types that's pretty straightforward, so just converting an integer number into a string.\n",
    "\n",
    "Python gives your custom class full control over how it wants to represent itself in string form, and there are essentially four main functions used to do this. \n",
    "\n",
    "The first, is the str function, this function is called on your class when the str, print, or string.format functions are used to convert the object to a string and, obviously, the return value has to be a string.\n",
    "This particular string is typically an informal representation of the object. In other words, its just a nicely formatted human readable string, there's no expectation that this is a valid Python expression.\n",
    "\n",
    "The second, is the repr function. This is called on your class when an object of its type is passed to the repr function. Now, according to the Python documentation, this function should try to return a Python expression that could be used to recreate the object with the same value. Now, that may not always be possible with complex objects, in which case, you can just return a useful description. This function is often used for debugging purposes, so it's important that it contain useful data.\n",
    "\n",
    "If your class overrides repr, but not str, then repr will also be used to generate the human readable string. Next is the format function, which takes a format spec as an argument, and as you might have guessed, this function will be called when the object is converted using the strings format function with a formatting specification.\n",
    "\n",
    "The format spec will contain the description of the desired formatting options, and it's up to your class to implement the string formatting logic. Now, in reality, most classes never actually do that, they simply delegate to the built-in string format function. The last function isn't really a string function, it handles the converting of an object into a bytes object.\n",
    "\n",
    "When there's some scenarios where you was to pass data as a set of bytes, and using this function you can do that. It's called when the bytes conversion function is invoked on the object.\n",
    "\n",
    "So, by overriding these functions, you can exert full control over how your objects are represented in string and byte forms.\n"
   ]
  },
  {
   "cell_type": "code",
   "execution_count": 31,
   "metadata": {
    "ExecuteTime": {
     "end_time": "2019-01-26T17:33:43.181699Z",
     "start_time": "2019-01-26T17:33:43.172692Z"
    }
   },
   "outputs": [],
   "source": [
    "# customize string representations of objects\n",
    "\n",
    "\n",
    "class Person():\n",
    "    def __init__(self):\n",
    "        self.fname = \"No\"\n",
    "        self.lname = \"Name\"\n",
    "        self.age = 25\n",
    "\n",
    "    # use __repr__ to create a string useful for debugging\n",
    "    def __repr__(self):\n",
    "        return \"<Person Class - fname:{0}, lname:{1}, age{2}>\".format(self.fname, self.lname, self.age)\n",
    "\n",
    "    # use str for a more human-readable string\n",
    "    def __str__(self):\n",
    "        return \"Person ({0} {1} is {2})\".format(self.fname, self.lname, self.age)\n",
    "\n",
    "    # use bytes to convert the informal string to a bytes object\n",
    "    def __bytes__(self):\n",
    "        val = \"Person:{0}:{1}:{2}\".format(self.fname, self.lname, self.age)\n",
    "        return bytes(val.encode('utf-8'))\n",
    "\n",
    "\n",
    "def part5_2():\n",
    "    # create a new Person object\n",
    "    cls1 = Person()\n",
    "\n",
    "    # use different Python functions to convert it to a string\n",
    "    print(repr(cls1))\n",
    "    print(str(cls1))\n",
    "    print(\"Formatted: {0}\".format(cls1))\n",
    "    print(bytes(cls1))\n"
   ]
  },
  {
   "cell_type": "code",
   "execution_count": 32,
   "metadata": {
    "ExecuteTime": {
     "end_time": "2019-01-26T17:33:48.101989Z",
     "start_time": "2019-01-26T17:33:48.097988Z"
    }
   },
   "outputs": [
    {
     "name": "stdout",
     "output_type": "stream",
     "text": [
      "<Person Class - fname:No, lname:Name, age25>\n",
      "Person (No Name is 25)\n",
      "Formatted: Person (No Name is 25)\n",
      "b'Person:No:Name:25'\n"
     ]
    }
   ],
   "source": [
    "part5_2()"
   ]
  },
  {
   "cell_type": "markdown",
   "metadata": {},
   "source": [
    "### 5.3 Computed Attributes\n",
    "\n",
    "Python provides a set of methods that classes can use to control how attributes are accessed on an object. Whenever an object's attributes are retrieved or set, Python calls one of these functions to give your class an opportunity to perform any desired processing. The first two, getattribute and getattr, are called to retrieve an attribute value. Now these are slightly different from each other, but it's important to know the difference.\n",
    "\n",
    "Getattr is called only when the requested attribute can't be found on the object, while getattribute is called unconditionally every time an attribute name is requested. It's also called by Python when it goes to look up any methods on your class, so you need to be really careful with it. \n",
    "\n",
    "The setattr function is called when an attribute value is set on the object. Delattr is called to delete an attribute and dir is called when the dir function is used on the object. This is useful because it enables a developer to dynamically discover the attributes your object supports.\n",
    "\n",
    "So adding supports for computed attributes can really extend the features that your classes support, and provide a way to reuse existing attributes in new ways.\n"
   ]
  },
  {
   "cell_type": "code",
   "execution_count": 34,
   "metadata": {
    "ExecuteTime": {
     "end_time": "2019-01-26T17:42:13.349348Z",
     "start_time": "2019-01-26T17:42:13.339341Z"
    }
   },
   "outputs": [],
   "source": [
    "# customize string representations of objects\n",
    "\n",
    "class myColor():\n",
    "    def __init__(self):\n",
    "        self.red = 50\n",
    "        self.green = 75\n",
    "        self.blue = 100\n",
    "\n",
    "    # use getattr to dynamically return a value\n",
    "    def __getattr__(self, attr):\n",
    "        if attr == \"rgbcolor\":\n",
    "            return (self.red, self.green, self.blue)\n",
    "        elif attr == \"hexcolor\":\n",
    "            return \"#{0:02x}{1:02x}{2:02x}\".format(self.red, self.green, self.blue)\n",
    "        else:\n",
    "            raise AttributeError\n",
    "\n",
    "    # use setattr to dynamically return a value\n",
    "    def __setattr__(self, attr, val):\n",
    "        if attr == \"rgbcolor\":\n",
    "            self.red = val[0]\n",
    "            self.green = val[1]\n",
    "            self.blue = val[2]\n",
    "        else:\n",
    "            super().__setattr__(attr, val)\n",
    "\n",
    "    # use dir to list the available properties\n",
    "    def __dir__(self):\n",
    "        return (\"rgbolor\", \"hexcolor\")\n",
    "\n",
    "\n",
    "def part5_3():\n",
    "    # create an instance of myColor\n",
    "    cls1 = myColor()\n",
    "    # print the value of a computed attribute\n",
    "    print(cls1.rgbcolor)\n",
    "    print(cls1.hexcolor)\n",
    "\n",
    "    # set the value of a computed attribute\n",
    "    cls1.rgbcolor = (125, 200, 86)\n",
    "    print(cls1.rgbcolor)\n",
    "    print(cls1.hexcolor)\n",
    "\n",
    "    # access a regular attribute\n",
    "    print(cls1.red)\n",
    "\n",
    "    # list the available attributes\n",
    "    print(dir(cls1))"
   ]
  },
  {
   "cell_type": "code",
   "execution_count": 35,
   "metadata": {
    "ExecuteTime": {
     "end_time": "2019-01-26T17:42:25.100207Z",
     "start_time": "2019-01-26T17:42:25.096204Z"
    }
   },
   "outputs": [
    {
     "name": "stdout",
     "output_type": "stream",
     "text": [
      "(50, 75, 100)\n",
      "#324b64\n",
      "(125, 200, 86)\n",
      "#7dc856\n",
      "125\n",
      "['hexcolor', 'rgbolor']\n"
     ]
    }
   ],
   "source": [
    "part5_3()"
   ]
  },
  {
   "cell_type": "markdown",
   "metadata": {},
   "source": [
    "### 5.4 Object Operations\n",
    "\n",
    "Using special class methods, you can give your classes abilities that they don't natively get from Python, but that other build-in objects have. One of those is the ability to emulate the behavior of numeric values in order to support operations like addition and subtraction. This table shows a partial list of the functions your class can override in order to provide number-like functionality. You can add objects together, subtract them from each other, basically, just about any mathematical operation you want. You can see in the right hand column the kinds of expressions that cause these functions to be called, such as when two objects are added together.\n",
    "\n",
    "In addition, Python also supports in-place math operations on objects. These functions are called when you use the short-hand notation such as plus equals in order to add to an existing object in place. And again, this is not an exhaustive list."
   ]
  },
  {
   "cell_type": "code",
   "execution_count": 36,
   "metadata": {
    "ExecuteTime": {
     "end_time": "2019-01-26T17:45:09.192792Z",
     "start_time": "2019-01-26T17:45:09.185785Z"
    }
   },
   "outputs": [],
   "source": [
    "# give objects number-like behavior\n",
    "\n",
    "\n",
    "class Point():\n",
    "    def __init__(self, x, y):\n",
    "        self.x = x\n",
    "        self.y = y\n",
    "\n",
    "    def __repr__(self):\n",
    "        return \"<Point x:{0},y:{1}>\".format(self.x, self.y)\n",
    "\n",
    "    # implement addition\n",
    "    def __add__(self, other):\n",
    "        return Point(self.x + other.x, self.y + other.y)\n",
    "\n",
    "    # implement subtraction\n",
    "    def __sub__(self, other):\n",
    "        return Point(self.x - other.x, self.y - other.y)\n",
    "\n",
    "    # implement in-place addition\n",
    "    def __iadd__(self, other):\n",
    "        self.x += other.x\n",
    "        self.y += other.y\n",
    "        return self\n",
    "\n",
    "\n",
    "def part5_4():\n",
    "    # Declare some points\n",
    "    p1 = Point(10, 20)\n",
    "    p2 = Point(30, 30)\n",
    "    print(p1, p2)\n",
    "\n",
    "    # Add two points\n",
    "    p3 = p1 + p2\n",
    "    print(p3)\n",
    "\n",
    "    # subtract two points\n",
    "    p4 = p2 - p1\n",
    "    print(p4)\n",
    "\n",
    "    # Perform in-place addition\n",
    "    p1 += p2\n",
    "    print(p1)\n"
   ]
  },
  {
   "cell_type": "code",
   "execution_count": 37,
   "metadata": {
    "ExecuteTime": {
     "end_time": "2019-01-26T17:45:15.224924Z",
     "start_time": "2019-01-26T17:45:15.220923Z"
    }
   },
   "outputs": [
    {
     "name": "stdout",
     "output_type": "stream",
     "text": [
      "<Point x:10,y:20> <Point x:30,y:30>\n",
      "<Point x:40,y:50>\n",
      "<Point x:20,y:10>\n",
      "<Point x:40,y:50>\n"
     ]
    }
   ],
   "source": [
    "part5_4()"
   ]
  },
  {
   "cell_type": "markdown",
   "metadata": {},
   "source": [
    "### 5.5 Object Comparisons\n",
    "\n",
    "It is also possible to implement comparison operators using our special class methods to allow objects to compare themselves\n",
    "to other objects of the same type. So, this table lists the names of the special class function that you can override to provide comparisons, and you can see that there are methods for greater than, less than, greater or less than or equal, and so on. Each of these methods compares the object that the method is being called on to the object specified by the parameter named other, and you can see the type of comparison expression that triggers that particular function in the right-hand column."
   ]
  },
  {
   "cell_type": "code",
   "execution_count": 38,
   "metadata": {
    "ExecuteTime": {
     "end_time": "2019-01-26T17:48:03.951949Z",
     "start_time": "2019-01-26T17:48:03.941941Z"
    }
   },
   "outputs": [],
   "source": [
    "# Use special methods to compare objects to each other\n",
    "\n",
    "class Employee():\n",
    "    def __init__(self, fname, lname, level, yrsService):\n",
    "        self.fname = fname\n",
    "        self.lname = lname\n",
    "        self.level = level\n",
    "        self.seniority = yrsService\n",
    "\n",
    "    # implement comparison functions by emp level\n",
    "    def __ge__(self, other):\n",
    "        if self.level == other.level:\n",
    "            return self.seniority >= other.seniority\n",
    "        return self.level >= other.level\n",
    "\n",
    "    def __gt__(self, other):\n",
    "        if self.level == other.level:\n",
    "            return self.seniority > other.seniority\n",
    "        return self.level > other.level\n",
    "\n",
    "    def __lt__(self, other):\n",
    "        if self.level == other.level:\n",
    "            return self.seniority < other.seniority\n",
    "        return self.level < other.level\n",
    "\n",
    "    def __le__(self, other):\n",
    "        if self.level == other.level:\n",
    "            return self.seniority <= other.seniority\n",
    "        return self.level <= other.level\n",
    "\n",
    "    def __eq__(self, other):\n",
    "        return self.level == other.level\n",
    "\n",
    "\n",
    "def part5_5():\n",
    "    # define some employees\n",
    "    dept = []\n",
    "    dept.append(Employee(\"Tim\", \"Sims\", 5, 9))\n",
    "    dept.append(Employee(\"John\", \"Doe\", 4, 12))\n",
    "    dept.append(Employee(\"Jane\", \"Smith\", 6, 6))\n",
    "    dept.append(Employee(\"Rebecca\", \"Robinson\", 5, 13))\n",
    "    dept.append(Employee(\"Tyler\", \"Durden\", 5, 12))\n",
    "\n",
    "    # Who's more senior?\n",
    "    print(bool(dept[0] > dept[2]))\n",
    "    print(bool(dept[4] < dept[3]))\n",
    "\n",
    "    # sort the items\n",
    "    emps = sorted(dept)\n",
    "    for emp in emps:\n",
    "        print(emp.lname)"
   ]
  },
  {
   "cell_type": "code",
   "execution_count": 39,
   "metadata": {
    "ExecuteTime": {
     "end_time": "2019-01-26T17:48:10.986754Z",
     "start_time": "2019-01-26T17:48:10.982752Z"
    }
   },
   "outputs": [
    {
     "name": "stdout",
     "output_type": "stream",
     "text": [
      "False\n",
      "True\n",
      "Doe\n",
      "Sims\n",
      "Durden\n",
      "Robinson\n",
      "Smith\n"
     ]
    }
   ],
   "source": [
    "part5_5()"
   ]
  },
  {
   "cell_type": "markdown",
   "metadata": {},
   "source": [
    "## 6. Logging"
   ]
  },
  {
   "cell_type": "markdown",
   "metadata": {},
   "source": [
    "### 6.1 Basic Logging\n",
    "\n",
    "To use Python's logging features, you import the logging module into your app. To send information to the log output, there are individual functions for each kind or level of message.\n",
    "\n",
    "There are five different methods to use for recording log messages. \n",
    "* Debug, \n",
    "* Info, \n",
    "* Warning, \n",
    "* Error,\n",
    "* Critical.\n",
    "\n",
    "Each of these methods corresponds to a particular type of message which are used to indicate different types of status of the application. \n",
    "\n",
    "Debug messages are typically used to provide diagnostic information that's useful when you are trying to track down a problem. \n",
    "\n",
    "Info messages are usually used to indicate that a particular interesting operation was able to complete normally. \n",
    "\n",
    "Warning messages indicate that something unexpected happened or that a more serious problem might be approaching\n",
    "such as running out of storage space or the inability to communicate with a remote server. \n",
    "\n",
    "Error messages indicate that a particular operation was unable to successfully complete.\n",
    "\n",
    "And critical messages indicate that the program has suffered a serious error and might not be able to continue running.\n",
    "\n",
    "Now by default, the logging module only outputs warning messages in Grader But you can configure this using the basic config function and setting the level argument to the minimum logging level you require."
   ]
  },
  {
   "cell_type": "code",
   "execution_count": 40,
   "metadata": {
    "ExecuteTime": {
     "end_time": "2019-01-26T17:54:06.390540Z",
     "start_time": "2019-01-26T17:54:06.383535Z"
    }
   },
   "outputs": [],
   "source": [
    "# demonstrate the logging api in Python\n",
    "\n",
    "# use the built-in logging module\n",
    "import logging\n",
    "\n",
    "\n",
    "def part6_1():\n",
    "    # Use basicConfig to configure logging\n",
    "    # this is only executed once, subsequent calls to\n",
    "    # basicConfig will have no effect\n",
    "    logging.basicConfig(level=logging.DEBUG,\n",
    "                        filemode=\"w\",\n",
    "                        filename=\"output.log\")\n",
    "\n",
    "    # Try out each of the log levels\n",
    "    logging.debug(\"This is a debug-level log message\")\n",
    "    logging.info(\"This is an info-level log message\")\n",
    "    logging.warning(\"This is a warning-level message\")\n",
    "    logging.error(\"This is an error-level message\")\n",
    "    logging.critical(\"This is a critical-level message\")\n",
    "\n",
    "    # Output formatted string to the log\n",
    "    logging.info(\"Here's a {} variable and an int: {}\".format(\"string\", 10))"
   ]
  },
  {
   "cell_type": "code",
   "execution_count": 41,
   "metadata": {
    "ExecuteTime": {
     "end_time": "2019-01-26T17:54:10.410287Z",
     "start_time": "2019-01-26T17:54:10.405286Z"
    }
   },
   "outputs": [],
   "source": [
    "part6_1()"
   ]
  },
  {
   "cell_type": "markdown",
   "metadata": {},
   "source": [
    "### 6.2 Custom Logging\n",
    "\n",
    "The Python logging module is very flexible and makes it easy to customize the message output depending on your needs. This way, your not stuck with a single message format. The basic config function takes two additional arguments, format and datefmt. The format argument specifies a string that controls the precise formatting of the output message that is sent to the log.\n",
    "\n",
    "The date format argument is used in conjunction with the format argument. If the format argument contains a date specifier then the date format argument is used to format the date string using the same kind of date formatting strings that you would pass to the strftime function. This table lists some of the some of the formatting tokens you can use in the format argument. \n",
    "\n",
    "For example, the asctime token is a human readable time format. The filename and funcName tokens are for the file and function names where the log message originated and so on. "
   ]
  },
  {
   "cell_type": "code",
   "execution_count": 42,
   "metadata": {
    "ExecuteTime": {
     "end_time": "2019-01-26T17:57:40.403615Z",
     "start_time": "2019-01-26T17:57:40.395607Z"
    }
   },
   "outputs": [],
   "source": [
    "# Demonstrate how to customize logging output\n",
    "\n",
    "import logging\n",
    "\n",
    "extData = {'user': 'noname@lol.com'}\n",
    "\n",
    "\n",
    "def anotherFunction():\n",
    "    logging.debug(\"This is a debug-level log message\", extra=extData)\n",
    "\n",
    "\n",
    "def part6_2():\n",
    "    # set the output file and debug level, and\n",
    "    # use a custom formatting specification\n",
    "    fmtStr = \"%(asctime)s: %(levelname)s: %(funcName)s Line:%(lineno)d User:%(user)s %(message)s\"\n",
    "    dateStr = \"%m/%d/%Y %I:%M:%S %p\"\n",
    "    logging.basicConfig(filename=\"output.log\",\n",
    "                        level=logging.DEBUG,\n",
    "                        format=fmtStr,\n",
    "                        datefmt=dateStr)\n",
    "\n",
    "    logging.info(\"This is an info-level log message\", extra=extData)\n",
    "    logging.warning(\"This is a warning-level message\", extra=extData)\n",
    "    anotherFunction()\n"
   ]
  },
  {
   "cell_type": "code",
   "execution_count": 43,
   "metadata": {
    "ExecuteTime": {
     "end_time": "2019-01-26T17:57:45.102896Z",
     "start_time": "2019-01-26T17:57:45.099895Z"
    }
   },
   "outputs": [],
   "source": [
    "part6_2()"
   ]
  },
  {
   "cell_type": "markdown",
   "metadata": {},
   "source": [
    "## 7. Comprehensions\n",
    "\n"
   ]
  },
  {
   "cell_type": "markdown",
   "metadata": {},
   "source": [
    "### 7.1 List Comprehensions\n"
   ]
  },
  {
   "cell_type": "code",
   "execution_count": 44,
   "metadata": {
    "ExecuteTime": {
     "end_time": "2019-01-26T18:01:09.973323Z",
     "start_time": "2019-01-26T18:01:09.965320Z"
    }
   },
   "outputs": [],
   "source": [
    "# Demonstrate how to use list comprehensions\n",
    "\n",
    "\n",
    "def part7_1():\n",
    "    # define two lists of numbers\n",
    "    evens = [2, 4, 6, 8, 10, 12, 14, 16, 18, 20]\n",
    "    odds = [1, 3, 5, 7, 9, 11, 13, 15, 17, 19]\n",
    "\n",
    "    # Perform a mapping and filter function on a list\n",
    "    evenSquared = list(\n",
    "        map(lambda e: e**2, filter(lambda e: e > 4 and e < 16, evens)))\n",
    "    print(evenSquared)\n",
    "\n",
    "    # Derive a new list of numbers frm a given list\n",
    "    evenSquared = [e ** 2 for e in evens]\n",
    "    print(evenSquared)\n",
    "\n",
    "    # Limit the items operated on with a predicate condition\n",
    "    oddSquared = [e ** 2 for e in odds if e > 3 and e < 17]\n",
    "    print(oddSquared)\n"
   ]
  },
  {
   "cell_type": "code",
   "execution_count": 45,
   "metadata": {
    "ExecuteTime": {
     "end_time": "2019-01-26T18:01:14.786563Z",
     "start_time": "2019-01-26T18:01:14.782561Z"
    }
   },
   "outputs": [
    {
     "name": "stdout",
     "output_type": "stream",
     "text": [
      "[36, 64, 100, 144, 196]\n",
      "[4, 16, 36, 64, 100, 144, 196, 256, 324, 400]\n",
      "[25, 49, 81, 121, 169, 225]\n"
     ]
    }
   ],
   "source": [
    "part7_1()"
   ]
  },
  {
   "cell_type": "markdown",
   "metadata": {},
   "source": [
    "### 7.2 Dictionary Comprehensions"
   ]
  },
  {
   "cell_type": "code",
   "execution_count": 46,
   "metadata": {
    "ExecuteTime": {
     "end_time": "2019-01-26T18:02:30.552338Z",
     "start_time": "2019-01-26T18:02:30.545334Z"
    }
   },
   "outputs": [],
   "source": [
    "# Demonstrate how to use dictionary comprehensions\n",
    "\n",
    "\n",
    "def part7_2():\n",
    "    # define a list of temperature values\n",
    "    ctemps = [0, 12, 34, 100]\n",
    "\n",
    "    # Use a comprehension to build a dictionary\n",
    "    tempDict = {t: (t * 9/5) + 32 for t in ctemps if t < 100}\n",
    "    print(tempDict)\n",
    "    print(tempDict[12])\n",
    "\n",
    "    # Merge two dictionaries with a comprehension\n",
    "    team1 = {\"Jones\": 24, \"Jameson\": 18, \"Smith\": 58, \"Burns\": 7}\n",
    "    team2 = {\"White\": 12, \"Macke\": 88, \"Perce\": 4}\n",
    "    newTeam = {k: v for team in (team1, team2) for k, v in team.items()}\n",
    "    print(newTeam)"
   ]
  },
  {
   "cell_type": "code",
   "execution_count": 47,
   "metadata": {
    "ExecuteTime": {
     "end_time": "2019-01-26T18:02:35.114534Z",
     "start_time": "2019-01-26T18:02:35.110533Z"
    },
    "scrolled": true
   },
   "outputs": [
    {
     "name": "stdout",
     "output_type": "stream",
     "text": [
      "{0: 32.0, 12: 53.6, 34: 93.2}\n",
      "53.6\n",
      "{'Jones': 24, 'Jameson': 18, 'Smith': 58, 'Burns': 7, 'White': 12, 'Macke': 88, 'Perce': 4}\n"
     ]
    }
   ],
   "source": [
    "part7_2()"
   ]
  },
  {
   "cell_type": "markdown",
   "metadata": {},
   "source": [
    "### 7.3 Set Comprehensions\n",
    "\n",
    "Let's wrap up our discussion on comprehensions by taking a look at how you can use comprehensions to work with sets of values.\n",
    "So, we've already seen how to do them with lists and dictionaries, and now we're going to take a look at sets. And recall, sets in Python are used to contain unique values. So that is each value in a given set can occur only once."
   ]
  },
  {
   "cell_type": "code",
   "execution_count": 48,
   "metadata": {
    "ExecuteTime": {
     "end_time": "2019-01-26T18:06:11.326912Z",
     "start_time": "2019-01-26T18:06:11.319907Z"
    }
   },
   "outputs": [],
   "source": [
    "# Demonstrate how to use set comprehensions\n",
    "\n",
    "def part7_3():\n",
    "    # define a list of temperature data points\n",
    "    ctemps = [5, 10, 12, 14, 10, 23, 41, 30, 12, 24, 12, 18, 29]\n",
    "\n",
    "    # build a set of unique Fahrenheit temperatures\n",
    "    ftemps1 = [(t * 9/5) + 32 for t in ctemps]\n",
    "    ftemps2 = {(t * 9/5) + 32 for t in ctemps}\n",
    "    print(ftemps1)\n",
    "    print(ftemps2)\n",
    "\n",
    "    # build a set from an input source\n",
    "    sTemp = \"The quick brown fox jumped over the lazy dog\"\n",
    "    chars = {c.upper() for c in sTemp if not c.isspace()}\n",
    "    print(chars)\n"
   ]
  },
  {
   "cell_type": "code",
   "execution_count": 49,
   "metadata": {
    "ExecuteTime": {
     "end_time": "2019-01-26T18:06:15.565913Z",
     "start_time": "2019-01-26T18:06:15.561910Z"
    }
   },
   "outputs": [
    {
     "name": "stdout",
     "output_type": "stream",
     "text": [
      "[41.0, 50.0, 53.6, 57.2, 50.0, 73.4, 105.8, 86.0, 53.6, 75.2, 53.6, 64.4, 84.2]\n",
      "{64.4, 73.4, 41.0, 105.8, 75.2, 50.0, 84.2, 53.6, 86.0, 57.2}\n",
      "{'F', 'Z', 'J', 'R', 'O', 'X', 'W', 'U', 'G', 'H', 'Y', 'L', 'D', 'N', 'A', 'K', 'M', 'P', 'V', 'Q', 'B', 'I', 'E', 'T', 'C'}\n"
     ]
    }
   ],
   "source": [
    "part7_3()"
   ]
  }
 ],
 "metadata": {
  "kernelspec": {
   "display_name": "Python 3",
   "language": "python",
   "name": "python3"
  },
  "language_info": {
   "codemirror_mode": {
    "name": "ipython",
    "version": 3
   },
   "file_extension": ".py",
   "mimetype": "text/x-python",
   "name": "python",
   "nbconvert_exporter": "python",
   "pygments_lexer": "ipython3",
   "version": "3.7.0"
  },
  "varInspector": {
   "cols": {
    "lenName": 16,
    "lenType": 16,
    "lenVar": 40
   },
   "kernels_config": {
    "python": {
     "delete_cmd_postfix": "",
     "delete_cmd_prefix": "del ",
     "library": "var_list.py",
     "varRefreshCmd": "print(var_dic_list())"
    },
    "r": {
     "delete_cmd_postfix": ") ",
     "delete_cmd_prefix": "rm(",
     "library": "var_list.r",
     "varRefreshCmd": "cat(var_dic_list()) "
    }
   },
   "types_to_exclude": [
    "module",
    "function",
    "builtin_function_or_method",
    "instance",
    "_Feature"
   ],
   "window_display": false
  }
 },
 "nbformat": 4,
 "nbformat_minor": 2
}
