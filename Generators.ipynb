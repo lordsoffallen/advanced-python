{
 "cells": [
  {
   "cell_type": "markdown",
   "metadata": {},
   "source": [
    "# Python Generators"
   ]
  },
  {
   "cell_type": "markdown",
   "metadata": {
    "heading_collapsed": true
   },
   "source": [
    "## Generator Functions & Expressions"
   ]
  },
  {
   "cell_type": "markdown",
   "metadata": {
    "heading_collapsed": true,
    "hidden": true
   },
   "source": [
    "### Build a Generator Function"
   ]
  },
  {
   "cell_type": "markdown",
   "metadata": {
    "hidden": true
   },
   "source": [
    "There is a lot of overhead in building an iterator in Python. We have to implement a class with `__iter__()` and `__next__()` method, keep track of internal states, raise StopIteration when there was no values to be returned etc.\n",
    "\n",
    "This is both lengthy and counter intuitive. Generator comes into rescue in such situations.\n",
    "\n",
    "Python generators are a simple way of creating iterators. All the overhead we mentioned above are automatically handled by generators in Python.\n",
    "\n",
    "Simply speaking, a generator is a function that returns an object (iterator) which we can iterate over (one value at a time)."
   ]
  },
  {
   "cell_type": "code",
   "execution_count": 1,
   "metadata": {
    "ExecuteTime": {
     "end_time": "2019-02-16T19:06:11.002798Z",
     "start_time": "2019-02-16T19:06:10.998797Z"
    },
    "hidden": true
   },
   "outputs": [],
   "source": [
    "# function solution\n",
    "def even_integers_function(n):\n",
    "    result = []\n",
    "    for i in range(n):\n",
    "        if i % 2 == 0:\n",
    "            result.append(i)\n",
    "    return result"
   ]
  },
  {
   "cell_type": "code",
   "execution_count": 2,
   "metadata": {
    "ExecuteTime": {
     "end_time": "2019-02-16T19:06:12.213610Z",
     "start_time": "2019-02-16T19:06:12.210608Z"
    },
    "hidden": true
   },
   "outputs": [],
   "source": [
    "# generator solution\n",
    "def even_integers_generator(n):\n",
    "    for i in range(n):\n",
    "        if i % 2 == 0:\n",
    "            yield i"
   ]
  },
  {
   "cell_type": "code",
   "execution_count": 3,
   "metadata": {
    "ExecuteTime": {
     "end_time": "2019-02-16T19:06:39.543417Z",
     "start_time": "2019-02-16T19:06:39.528407Z"
    },
    "hidden": true
   },
   "outputs": [
    {
     "data": {
      "text/plain": [
       "[0, 2, 4, 6, 8]"
      ]
     },
     "execution_count": 3,
     "metadata": {},
     "output_type": "execute_result"
    }
   ],
   "source": [
    "even_integers_function(10)"
   ]
  },
  {
   "cell_type": "code",
   "execution_count": 4,
   "metadata": {
    "ExecuteTime": {
     "end_time": "2019-02-16T19:06:53.810182Z",
     "start_time": "2019-02-16T19:06:53.805182Z"
    },
    "hidden": true
   },
   "outputs": [
    {
     "data": {
      "text/plain": [
       "<generator object even_integers_generator at 0x0000000F8F04CE58>"
      ]
     },
     "execution_count": 4,
     "metadata": {},
     "output_type": "execute_result"
    }
   ],
   "source": [
    "gen = even_integers_generator(10)\n",
    "gen"
   ]
  },
  {
   "cell_type": "code",
   "execution_count": 5,
   "metadata": {
    "ExecuteTime": {
     "end_time": "2019-02-16T19:07:21.520036Z",
     "start_time": "2019-02-16T19:07:21.515033Z"
    },
    "hidden": true
   },
   "outputs": [
    {
     "name": "stdout",
     "output_type": "stream",
     "text": [
      "0\n",
      "2\n",
      "4\n",
      "6\n",
      "8\n"
     ]
    }
   ],
   "source": [
    "print(next(gen))\n",
    "print(next(gen))\n",
    "print(next(gen))\n",
    "print(next(gen))\n",
    "print(next(gen))"
   ]
  },
  {
   "cell_type": "markdown",
   "metadata": {
    "heading_collapsed": true,
    "hidden": true
   },
   "source": [
    "### Use a Generator Expression"
   ]
  },
  {
   "cell_type": "markdown",
   "metadata": {
    "hidden": true
   },
   "source": [
    "There is also a short way to build generators like list comprehensions. These are called generator expressions. \n",
    "\n",
    "* List comprehension  \n",
    "`newlist = [item.upper() for item in collection]`  \n",
    "  \n",
    "\n",
    "* generator expression  \n",
    "`(item.upper() for item in collection)`  \n"
   ]
  },
  {
   "cell_type": "code",
   "execution_count": 6,
   "metadata": {
    "ExecuteTime": {
     "end_time": "2019-02-16T19:08:18.980097Z",
     "start_time": "2019-02-16T19:08:18.974094Z"
    },
    "hidden": true
   },
   "outputs": [
    {
     "data": {
      "text/plain": [
       "<generator object <genexpr> at 0x0000000F8F3F6570>"
      ]
     },
     "execution_count": 6,
     "metadata": {},
     "output_type": "execute_result"
    }
   ],
   "source": [
    "#list of mixed format numbers\n",
    "numbers = [7, 22, 4.5, 99.7, '3', '5']\n",
    "\n",
    "#convert numbers to integers using expression\n",
    "integers = (int(n) for n in numbers)\n",
    "integers"
   ]
  },
  {
   "cell_type": "code",
   "execution_count": 7,
   "metadata": {
    "ExecuteTime": {
     "end_time": "2019-02-16T19:08:28.401454Z",
     "start_time": "2019-02-16T19:08:28.396452Z"
    },
    "hidden": true
   },
   "outputs": [
    {
     "data": {
      "text/plain": [
       "[7, 22, 4, 99, 3, 5]"
      ]
     },
     "execution_count": 7,
     "metadata": {},
     "output_type": "execute_result"
    }
   ],
   "source": [
    "list(integers)"
   ]
  },
  {
   "cell_type": "code",
   "execution_count": 8,
   "metadata": {
    "ExecuteTime": {
     "end_time": "2019-02-16T19:09:10.867737Z",
     "start_time": "2019-02-16T19:09:10.861731Z"
    },
    "hidden": true
   },
   "outputs": [
    {
     "data": {
      "text/plain": [
       "<generator object <genexpr> at 0x0000000F8F3F66D8>"
      ]
     },
     "execution_count": 8,
     "metadata": {},
     "output_type": "execute_result"
    }
   ],
   "source": [
    "names_list = ['Adam','Anne','Barry','Brianne','Charlie','Cassandra','David','Dana']\n",
    "\n",
    "#Converts names to uppercase\n",
    "uppercase_names = (name.upper() for name in names_list)\n",
    "uppercase_names"
   ]
  },
  {
   "cell_type": "code",
   "execution_count": 9,
   "metadata": {
    "ExecuteTime": {
     "end_time": "2019-02-16T19:09:18.568977Z",
     "start_time": "2019-02-16T19:09:18.558971Z"
    },
    "hidden": true
   },
   "outputs": [
    {
     "data": {
      "text/plain": [
       "['ADAM', 'ANNE', 'BARRY', 'BRIANNE', 'CHARLIE', 'CASSANDRA', 'DAVID', 'DANA']"
      ]
     },
     "execution_count": 9,
     "metadata": {},
     "output_type": "execute_result"
    }
   ],
   "source": [
    "list(uppercase_names)"
   ]
  },
  {
   "cell_type": "code",
   "execution_count": 10,
   "metadata": {
    "ExecuteTime": {
     "end_time": "2019-02-16T19:09:40.616390Z",
     "start_time": "2019-02-16T19:09:40.609386Z"
    },
    "hidden": true
   },
   "outputs": [
    {
     "data": {
      "text/plain": [
       "<generator object <genexpr> at 0x0000000F8F3F68B8>"
      ]
     },
     "execution_count": 10,
     "metadata": {},
     "output_type": "execute_result"
    }
   ],
   "source": [
    "even_integers = (n for n in range(10) if n % 2 == 0)\n",
    "even_integers"
   ]
  },
  {
   "cell_type": "code",
   "execution_count": 11,
   "metadata": {
    "ExecuteTime": {
     "end_time": "2019-02-16T19:09:47.361013Z",
     "start_time": "2019-02-16T19:09:47.355010Z"
    },
    "hidden": true
   },
   "outputs": [
    {
     "data": {
      "text/plain": [
       "[0, 2, 4, 6, 8]"
      ]
     },
     "execution_count": 11,
     "metadata": {},
     "output_type": "execute_result"
    }
   ],
   "source": [
    "list(even_integers)"
   ]
  },
  {
   "cell_type": "code",
   "execution_count": 13,
   "metadata": {
    "ExecuteTime": {
     "end_time": "2019-02-16T19:13:23.944159Z",
     "start_time": "2019-02-16T19:13:23.939155Z"
    },
    "hidden": true
   },
   "outputs": [],
   "source": [
    "# list of names\n",
    "names_list = ['Adam','Anne','Barry','Brianne','Charlie','Cassandra','David','Dana']\n",
    "\n",
    "# too long\n",
    "# reverse_uppercase = (name[::-1] for name in (name.upper() for name in names_list))\n",
    "\n",
    "# breaking it up \n",
    "uppercase = (name.upper() for name in names_list)\n",
    "reverse_uppercase = (name[::-1] for name in uppercase)"
   ]
  },
  {
   "cell_type": "code",
   "execution_count": 14,
   "metadata": {
    "ExecuteTime": {
     "end_time": "2019-02-16T19:13:35.804251Z",
     "start_time": "2019-02-16T19:13:35.799247Z"
    },
    "hidden": true
   },
   "outputs": [
    {
     "data": {
      "text/plain": [
       "['MADA', 'ENNA', 'YRRAB', 'ENNAIRB', 'EILRAHC', 'ARDNASSAC', 'DIVAD', 'ANAD']"
      ]
     },
     "execution_count": 14,
     "metadata": {},
     "output_type": "execute_result"
    }
   ],
   "source": [
    "list(reverse_uppercase)"
   ]
  },
  {
   "cell_type": "markdown",
   "metadata": {
    "heading_collapsed": true,
    "hidden": true
   },
   "source": [
    "### Fibonacci Sequence"
   ]
  },
  {
   "cell_type": "markdown",
   "metadata": {
    "hidden": true
   },
   "source": [
    "Let's take a look at the [Fibonacci Sequence](https://www.mathsisfun.com/numbers/fibonacci-sequence.html) with generators."
   ]
  },
  {
   "cell_type": "code",
   "execution_count": 15,
   "metadata": {
    "ExecuteTime": {
     "end_time": "2019-02-16T19:16:53.923406Z",
     "start_time": "2019-02-16T19:16:53.919405Z"
    },
    "hidden": true
   },
   "outputs": [],
   "source": [
    "# Fibonacci Sequence Generator\n",
    "def fibonacci_gen():\n",
    "    trailing, lead = 0,1\n",
    "    while True:\n",
    "        yield lead\n",
    "        trailing, lead = lead, trailing+lead"
   ]
  },
  {
   "cell_type": "code",
   "execution_count": 16,
   "metadata": {
    "ExecuteTime": {
     "end_time": "2019-02-16T19:17:08.487303Z",
     "start_time": "2019-02-16T19:17:08.484301Z"
    },
    "hidden": true
   },
   "outputs": [],
   "source": [
    "fib = fibonacci_gen()"
   ]
  },
  {
   "cell_type": "code",
   "execution_count": 17,
   "metadata": {
    "ExecuteTime": {
     "end_time": "2019-02-16T19:17:41.438956Z",
     "start_time": "2019-02-16T19:17:41.433955Z"
    },
    "hidden": true
   },
   "outputs": [
    {
     "name": "stdout",
     "output_type": "stream",
     "text": [
      "1\n",
      "1\n",
      "2\n",
      "3\n",
      "5\n",
      "8\n",
      "13\n",
      "21\n",
      "34\n",
      "55\n"
     ]
    }
   ],
   "source": [
    "for _ in range(10):\n",
    "    print(next(fib))"
   ]
  },
  {
   "cell_type": "markdown",
   "metadata": {
    "heading_collapsed": true,
    "hidden": true
   },
   "source": [
    "### Building Generator Pipeline"
   ]
  },
  {
   "cell_type": "markdown",
   "metadata": {
    "hidden": true
   },
   "source": [
    "Generators can also be chained together to build a generator pipeline. Using the `names.txt` file, we will pipeline the generator process by stripping off the whitespace and retrieving the full names, followed by zipping name and their lengths and lastly finding the longest name from our names. Without generators, we would have to do these steps one by one."
   ]
  },
  {
   "cell_type": "code",
   "execution_count": 19,
   "metadata": {
    "ExecuteTime": {
     "end_time": "2019-02-16T19:26:18.053490Z",
     "start_time": "2019-02-16T19:26:18.047486Z"
    },
    "hidden": true
   },
   "outputs": [],
   "source": [
    "# using generators to find the longest name\n",
    "full_names = (name.strip() for name in open('names.txt'))\n",
    "lengths = ((name, len(name)) for name in full_names)\n",
    "longest = max(lengths, key=lambda x: x[1])"
   ]
  },
  {
   "cell_type": "code",
   "execution_count": 20,
   "metadata": {
    "ExecuteTime": {
     "end_time": "2019-02-16T19:26:25.843734Z",
     "start_time": "2019-02-16T19:26:25.837728Z"
    },
    "hidden": true
   },
   "outputs": [
    {
     "data": {
      "text/plain": [
       "('Brittanie Talamantes', 20)"
      ]
     },
     "execution_count": 20,
     "metadata": {},
     "output_type": "execute_result"
    }
   ],
   "source": [
    "longest"
   ]
  },
  {
   "cell_type": "code",
   "execution_count": 18,
   "metadata": {
    "ExecuteTime": {
     "end_time": "2019-02-16T19:25:05.502224Z",
     "start_time": "2019-02-16T19:25:05.499222Z"
    },
    "code_folding": [],
    "hidden": true
   },
   "outputs": [],
   "source": [
    "# adding separate_names generator as another stage in pipeline\n",
    "def separate_names(names):\n",
    "    for full_name in names:\n",
    "        for name in full_name.split(' '):\n",
    "            yield name"
   ]
  },
  {
   "cell_type": "code",
   "execution_count": 21,
   "metadata": {
    "ExecuteTime": {
     "end_time": "2019-02-16T19:26:42.951238Z",
     "start_time": "2019-02-16T19:26:42.945234Z"
    },
    "code_folding": [],
    "hidden": true
   },
   "outputs": [],
   "source": [
    "full_names = (name.strip() for name in open('names.txt'))\n",
    "names = separate_names(full_names)\n",
    "lengths = ((name, len(name)) for name in names)\n",
    "longest = max(lengths, key=lambda x:x[1])"
   ]
  },
  {
   "cell_type": "code",
   "execution_count": 22,
   "metadata": {
    "ExecuteTime": {
     "end_time": "2019-02-16T19:26:51.541275Z",
     "start_time": "2019-02-16T19:26:51.536272Z"
    },
    "hidden": true
   },
   "outputs": [
    {
     "data": {
      "text/plain": [
       "('Humbertson', 10)"
      ]
     },
     "execution_count": 22,
     "metadata": {},
     "output_type": "execute_result"
    }
   ],
   "source": [
    "longest"
   ]
  },
  {
   "cell_type": "code",
   "execution_count": 23,
   "metadata": {
    "ExecuteTime": {
     "end_time": "2019-02-16T19:27:48.497014Z",
     "start_time": "2019-02-16T19:27:48.493014Z"
    },
    "hidden": true
   },
   "outputs": [],
   "source": [
    "def get_longest(namelist):\n",
    "    full_names = (name.strip() for name in open(namelist))\n",
    "    names = separate_names(full_names)\n",
    "    lengths = ((name, len(name)) for name in names)\n",
    "    return max(lengths, key=lambda x:x[1])"
   ]
  },
  {
   "cell_type": "code",
   "execution_count": 24,
   "metadata": {
    "ExecuteTime": {
     "end_time": "2019-02-16T19:28:00.061848Z",
     "start_time": "2019-02-16T19:28:00.055845Z"
    },
    "hidden": true
   },
   "outputs": [
    {
     "data": {
      "text/plain": [
       "('Humbertson', 10)"
      ]
     },
     "execution_count": 24,
     "metadata": {},
     "output_type": "execute_result"
    }
   ],
   "source": [
    "get_longest('names.txt')"
   ]
  },
  {
   "cell_type": "markdown",
   "metadata": {
    "heading_collapsed": true
   },
   "source": [
    "## Using Generators As Context Managers"
   ]
  },
  {
   "cell_type": "markdown",
   "metadata": {
    "heading_collapsed": true,
    "hidden": true
   },
   "source": [
    "### Context Manager Overview"
   ]
  },
  {
   "cell_type": "markdown",
   "metadata": {
    "hidden": true
   },
   "source": [
    "In real systems, it's difficult to make sure that close() is called on every file opened, especially if the file is in a function that may raise an exception or has multiple return paths. In a complicated function that opens a file, how can you possibly be expected to remember to add close() to every place that function could return from? And that's not counting exceptions, either (which may happen from anywhere). The short answer is: you can't be.\n",
    "\n",
    "In other languages, developers are forced to use `try...except...finally` every time they work with a file (or any other type of resource that needs to be closed, like sockets or database connections). Python gives us a simple way to make sure all resources we use are properly cleaned up, regardless of if the code returns or an exception is thrown: context managers.\n",
    "\n",
    "```\n",
    "@contextmanager\n",
    "def simple_context_manager(obj):\n",
    "    try:\n",
    "        #do something\n",
    "        yield\n",
    "    finally:\n",
    "        #wrap up\n",
    "```"
   ]
  },
  {
   "cell_type": "markdown",
   "metadata": {
    "heading_collapsed": true,
    "hidden": true
   },
   "source": [
    "### Context Manager Decorator"
   ]
  },
  {
   "cell_type": "code",
   "execution_count": 26,
   "metadata": {
    "ExecuteTime": {
     "end_time": "2019-02-16T19:53:36.671685Z",
     "start_time": "2019-02-16T19:53:36.666685Z"
    },
    "hidden": true
   },
   "outputs": [],
   "source": [
    "# increments some_property by 1\n",
    "from contextlib import contextmanager\n",
    "\n",
    "@contextmanager\n",
    "def simple_context_manager(obj):\n",
    "    try:\n",
    "        obj.some_property += 1\n",
    "        yield\n",
    "    finally:\n",
    "        obj.some_property -= 1\n",
    "        \n",
    "class Simple_obj(object):\n",
    "    def __init__(self, arg):\n",
    "        self.some_property = arg"
   ]
  },
  {
   "cell_type": "code",
   "execution_count": 27,
   "metadata": {
    "ExecuteTime": {
     "end_time": "2019-02-16T19:53:59.139918Z",
     "start_time": "2019-02-16T19:53:59.135915Z"
    },
    "hidden": true
   },
   "outputs": [
    {
     "name": "stdout",
     "output_type": "stream",
     "text": [
      "6\n"
     ]
    }
   ],
   "source": [
    "s = Simple_obj(5)\n",
    "with simple_context_manager(s):\n",
    "    print(s.some_property)"
   ]
  },
  {
   "cell_type": "markdown",
   "metadata": {
    "hidden": true
   },
   "source": [
    "Using with, we can call anything that returns a context manager (like the built-in open() function). We assign it to a variable using `... as <variable_name>`. When the variable goes out of scope, it automatically calls a special method that contains the code to clean up the resource."
   ]
  },
  {
   "cell_type": "code",
   "execution_count": 28,
   "metadata": {
    "ExecuteTime": {
     "end_time": "2019-02-16T19:55:28.051305Z",
     "start_time": "2019-02-16T19:55:28.046305Z"
    },
    "hidden": true
   },
   "outputs": [
    {
     "data": {
      "text/plain": [
       "5"
      ]
     },
     "execution_count": 28,
     "metadata": {},
     "output_type": "execute_result"
    }
   ],
   "source": [
    "s.some_property"
   ]
  },
  {
   "cell_type": "markdown",
   "metadata": {
    "hidden": true
   },
   "source": [
    "But where is the code that is actually being called when the variable goes out of scope? The answer is, \"wherever the context manager is defined.\" There are a number of ways to create a context manager.  \n",
    "\n",
    "The simplest is to define a class that contains two special methods:  \n",
    "\n",
    "* `__enter__()` returns the resource to be managed (like a file object in the case of open()).\n",
    "* `__exit__()` does any cleanup work and returns nothing."
   ]
  },
  {
   "cell_type": "code",
   "execution_count": 29,
   "metadata": {
    "ExecuteTime": {
     "end_time": "2019-02-16T20:05:53.396640Z",
     "start_time": "2019-02-16T20:05:53.393639Z"
    },
    "hidden": true
   },
   "outputs": [],
   "source": [
    "from contextlib import contextmanager\n",
    "from logging import Logger, FileHandler"
   ]
  },
  {
   "cell_type": "code",
   "execution_count": 30,
   "metadata": {
    "ExecuteTime": {
     "end_time": "2019-02-16T20:06:18.212782Z",
     "start_time": "2019-02-16T20:06:18.206779Z"
    },
    "hidden": true
   },
   "outputs": [],
   "source": [
    "# How it is done usually\n",
    "class Other_scm():\n",
    "    def __init__(self, obj):\n",
    "        self.obj = obj\n",
    "    def __enter__(self):\n",
    "        self.obj.some_property+=1\n",
    "    def __exit__(self, *args):\n",
    "        self.obj.some_property-=1"
   ]
  },
  {
   "cell_type": "code",
   "execution_count": 31,
   "metadata": {
    "ExecuteTime": {
     "end_time": "2019-02-16T20:09:07.913579Z",
     "start_time": "2019-02-16T20:09:07.907577Z"
    },
    "hidden": true
   },
   "outputs": [],
   "source": [
    "# a more complex example\n",
    "@contextmanager\n",
    "def error_logging(logger, level):\n",
    "    oldlevel = logger.level\n",
    "    try:\n",
    "        logger.setLevel(level)\n",
    "        yield\n",
    "    finally:\n",
    "        logger.setLevel(oldlevel)"
   ]
  },
  {
   "cell_type": "code",
   "execution_count": 32,
   "metadata": {
    "ExecuteTime": {
     "end_time": "2019-02-16T20:09:37.195491Z",
     "start_time": "2019-02-16T20:09:37.190488Z"
    },
    "hidden": true
   },
   "outputs": [],
   "source": [
    "logger = Logger('name',20)\n",
    "handler = FileHandler('flog.log')\n",
    "logger.addHandler(handler)\n",
    "logger.info('this will get logged')"
   ]
  },
  {
   "cell_type": "code",
   "execution_count": 33,
   "metadata": {
    "ExecuteTime": {
     "end_time": "2019-02-16T20:09:44.639571Z",
     "start_time": "2019-02-16T20:09:44.635570Z"
    },
    "hidden": true
   },
   "outputs": [],
   "source": [
    "with error_logging(logger, 30):\n",
    "    logger.info('this will not get logged')\n",
    "logger.info('this will get logged because the level is {}'.format(logger.level))"
   ]
  },
  {
   "cell_type": "markdown",
   "metadata": {
    "heading_collapsed": true,
    "hidden": true
   },
   "source": [
    "### Building HTML File with Context Manager"
   ]
  },
  {
   "cell_type": "code",
   "execution_count": 35,
   "metadata": {
    "ExecuteTime": {
     "end_time": "2019-02-16T20:14:50.413700Z",
     "start_time": "2019-02-16T20:14:50.407696Z"
    },
    "hidden": true
   },
   "outputs": [],
   "source": [
    "from time import time\n",
    "\n",
    "HEADER = \"this is the header \\n\"\n",
    "FOOTER = \"\\nthis is the footer \\n\"\n",
    "\n",
    "\n",
    "@contextmanager\n",
    "def new_log_file(name):    \n",
    "    try:\n",
    "        logname = name\n",
    "        f = open(logname, 'w')\n",
    "        f.write(HEADER)\n",
    "        yield f\n",
    "    finally:\n",
    "        f.write(FOOTER)\n",
    "        print(\"logfile created\")\n",
    "        f.close()"
   ]
  },
  {
   "cell_type": "code",
   "execution_count": 37,
   "metadata": {
    "ExecuteTime": {
     "end_time": "2019-02-16T20:16:28.471396Z",
     "start_time": "2019-02-16T20:16:28.466390Z"
    },
    "hidden": true
   },
   "outputs": [
    {
     "name": "stdout",
     "output_type": "stream",
     "text": [
      "logfile created\n"
     ]
    }
   ],
   "source": [
    "with new_log_file('new_log.log') as lg:\n",
    "    lg.write('This is something in the middle from header and footer')"
   ]
  },
  {
   "cell_type": "markdown",
   "metadata": {
    "heading_collapsed": true
   },
   "source": [
    "## Coroutines"
   ]
  },
  {
   "cell_type": "markdown",
   "metadata": {
    "heading_collapsed": true,
    "hidden": true
   },
   "source": [
    "### Coroutines Overview"
   ]
  },
  {
   "cell_type": "markdown",
   "metadata": {
    "hidden": true
   },
   "source": [
    "<span class=\"mark\">TODO: ADD EXPLANATIONS ABOUT THE TOPIC.</span>"
   ]
  },
  {
   "cell_type": "code",
   "execution_count": null,
   "metadata": {
    "hidden": true
   },
   "outputs": [],
   "source": [
    "def coroutine_example():\n",
    "    while True:\n",
    "        x = yield\n",
    "        #do something with x\n",
    "        print x"
   ]
  },
  {
   "cell_type": "markdown",
   "metadata": {
    "heading_collapsed": true,
    "hidden": true
   },
   "source": [
    "### Create Coroutines"
   ]
  },
  {
   "cell_type": "markdown",
   "metadata": {
    "hidden": true
   },
   "source": [
    "<span class=\"mark\">TODO: ADD EXPLANATIONS ABOUT THE TOPIC.</span>"
   ]
  },
  {
   "cell_type": "code",
   "execution_count": null,
   "metadata": {
    "hidden": true
   },
   "outputs": [],
   "source": [
    "def counter(string):\n",
    "    count = 0\n",
    "    try:\n",
    "        while True:\n",
    "            item = yield\n",
    "            if isinstance(item, str):\n",
    "                if item in string:\n",
    "                    count += 1\n",
    "                    print item\n",
    "                else:\n",
    "                    print 'No Match'\n",
    "            else:\n",
    "                print 'Not a string'\n",
    "    except GeneratorExit:\n",
    "        print count"
   ]
  },
  {
   "cell_type": "markdown",
   "metadata": {
    "heading_collapsed": true,
    "hidden": true
   },
   "source": [
    "### Build a Coroutine Decorator"
   ]
  },
  {
   "cell_type": "markdown",
   "metadata": {
    "hidden": true
   },
   "source": [
    "<span class=\"mark\">TODO: ADD EXPLANATIONS ABOUT THE TOPIC.</span>"
   ]
  },
  {
   "cell_type": "code",
   "execution_count": null,
   "metadata": {
    "hidden": true
   },
   "outputs": [],
   "source": [
    "def coroutine_decorator(func):\n",
    "    def wrap(*args, **kwargs):\n",
    "        cr = func(*args, **kwargs)\n",
    "        cr.next()\n",
    "        return cr\n",
    "    return wrap\n",
    "\n",
    "\n",
    "@coroutine_decorator\n",
    "def coroutine_example():\n",
    "    while True:\n",
    "        x = yield\n",
    "        #do something with x\n",
    "        print x"
   ]
  },
  {
   "cell_type": "markdown",
   "metadata": {
    "heading_collapsed": true,
    "hidden": true
   },
   "source": [
    "### Consume Values with Send Method"
   ]
  },
  {
   "cell_type": "markdown",
   "metadata": {
    "hidden": true
   },
   "source": [
    "<span class=\"mark\">TODO: ADD EXPLANATIONS ABOUT THE TOPIC.</span>"
   ]
  },
  {
   "cell_type": "code",
   "execution_count": null,
   "metadata": {
    "hidden": true
   },
   "outputs": [],
   "source": [
    "from coroutine_decorator import coroutine_decorator\n",
    "\n",
    "def sender(filename, target):\n",
    "    for line in open(filename):\n",
    "        target.send(line)\n",
    "    target.close()\n",
    "        \n",
    "\n",
    "@coroutine_decorator\n",
    "def match_counter(string):\n",
    "    count = 0\n",
    "    try:\n",
    "        while True:\n",
    "            line = yield\n",
    "            if string in line:\n",
    "                count += 1\n",
    "    except GeneratorExit:\n",
    "        print '{}: {}'.format(string, count)\n",
    "\n",
    "\n",
    "\n",
    "@coroutine_decorator\n",
    "def longer_than(n):\n",
    "    count = 0\n",
    "    try:\n",
    "        while True:\n",
    "            line = yield\n",
    "            if len(line)>n:\n",
    "                print line\n",
    "                count += 1\n",
    "    except GeneratorExit:\n",
    "        print 'longer than {}: {}'.format(n, count)"
   ]
  },
  {
   "cell_type": "markdown",
   "metadata": {
    "heading_collapsed": true,
    "hidden": true
   },
   "source": [
    "### Coroutine Pipelines"
   ]
  },
  {
   "cell_type": "markdown",
   "metadata": {
    "hidden": true
   },
   "source": [
    "<span class=\"mark\">TODO: ADD EXPLANATIONS ABOUT THE TOPIC.</span>"
   ]
  },
  {
   "cell_type": "code",
   "execution_count": null,
   "metadata": {
    "hidden": true
   },
   "outputs": [],
   "source": [
    "from coroutine_decorator import coroutine_decorator\n",
    "\n",
    "@coroutine_decorator\n",
    "def router():\n",
    "    try:\n",
    "        while True:\n",
    "            line = yield\n",
    "            (first, last) = line.split(' ')\n",
    "            fnames.send(first)\n",
    "            lnames.send(last.strip())\n",
    "    except GeneratorExit:\n",
    "        fnames.close()\n",
    "        lnames.close()\n",
    "        \n",
    "        \n",
    "\n",
    "@coroutine_decorator\n",
    "def file_write(filename):\n",
    "    try:\n",
    "        with open(filename,'a') as file:\n",
    "            while True:\n",
    "                line = yield\n",
    "                file.write(line+'\\n')\n",
    "    except GeneratorExit:\n",
    "        file.close()\n",
    "        print 'one file created'\n",
    "\n",
    "if __name__ == \"__main__\":\n",
    "    fnames = file_write('first_names.txt')\n",
    "    lnames = file_write('last_names.txt')\n",
    "    router = router()\n",
    "    for name in open('names.txt'):\n",
    "        router.send(name)\n",
    "    router.close()"
   ]
  }
 ],
 "metadata": {
  "kernelspec": {
   "display_name": "Python 3",
   "language": "python",
   "name": "python3"
  },
  "language_info": {
   "codemirror_mode": {
    "name": "ipython",
    "version": 3
   },
   "file_extension": ".py",
   "mimetype": "text/x-python",
   "name": "python",
   "nbconvert_exporter": "python",
   "pygments_lexer": "ipython3",
   "version": "3.7.0"
  },
  "toc": {
   "base_numbering": 1,
   "nav_menu": {},
   "number_sections": true,
   "sideBar": true,
   "skip_h1_title": false,
   "title_cell": "Table of Contents",
   "title_sidebar": "Contents",
   "toc_cell": false,
   "toc_position": {},
   "toc_section_display": true,
   "toc_window_display": false
  },
  "varInspector": {
   "cols": {
    "lenName": 16,
    "lenType": 16,
    "lenVar": 40
   },
   "kernels_config": {
    "python": {
     "delete_cmd_postfix": "",
     "delete_cmd_prefix": "del ",
     "library": "var_list.py",
     "varRefreshCmd": "print(var_dic_list())"
    },
    "r": {
     "delete_cmd_postfix": ") ",
     "delete_cmd_prefix": "rm(",
     "library": "var_list.r",
     "varRefreshCmd": "cat(var_dic_list()) "
    }
   },
   "types_to_exclude": [
    "module",
    "function",
    "builtin_function_or_method",
    "instance",
    "_Feature"
   ],
   "window_display": false
  }
 },
 "nbformat": 4,
 "nbformat_minor": 2
}
